{
 "cells": [
  {
   "cell_type": "code",
   "execution_count": 1,
   "id": "be8b416b",
   "metadata": {},
   "outputs": [],
   "source": [
    "import pandas as pd\n",
    "import numpy as np\n",
    "import matplotlib.pyplot as plt\n",
    "import seaborn as sns\n",
    "from warnings import filterwarnings\n",
    "filterwarnings('ignore')\n",
    "plt.rcParams['figure.figsize'] = (12,12)\n",
    "plt.rc(\"font\", size=14)\n",
    "from scipy.stats import chi2, chi2_contingency\n",
    "from scipy.stats import ttest_ind\n",
    "from sklearn.model_selection import train_test_split\n",
    "from sklearn.utils import resample\n",
    "import statsmodels.api as sm\n",
    "import statsmodels.formula.api as smf\n",
    "from sklearn.preprocessing import StandardScaler"
   ]
  },
  {
   "cell_type": "code",
   "execution_count": 2,
   "id": "494b1cb3",
   "metadata": {},
   "outputs": [
    {
     "data": {
      "text/html": [
       "<div>\n",
       "<style scoped>\n",
       "    .dataframe tbody tr th:only-of-type {\n",
       "        vertical-align: middle;\n",
       "    }\n",
       "\n",
       "    .dataframe tbody tr th {\n",
       "        vertical-align: top;\n",
       "    }\n",
       "\n",
       "    .dataframe thead th {\n",
       "        text-align: right;\n",
       "    }\n",
       "</style>\n",
       "<table border=\"1\" class=\"dataframe\">\n",
       "  <thead>\n",
       "    <tr style=\"text-align: right;\">\n",
       "      <th></th>\n",
       "      <th>age</th>\n",
       "      <th>workclass</th>\n",
       "      <th>fnlwgt</th>\n",
       "      <th>education</th>\n",
       "      <th>education_num</th>\n",
       "      <th>marital_status</th>\n",
       "      <th>occupation</th>\n",
       "      <th>relationship</th>\n",
       "      <th>race</th>\n",
       "      <th>sex</th>\n",
       "      <th>capital_gain</th>\n",
       "      <th>capital_loss</th>\n",
       "      <th>hours_per_week</th>\n",
       "      <th>native_country</th>\n",
       "      <th>salary</th>\n",
       "    </tr>\n",
       "  </thead>\n",
       "  <tbody>\n",
       "    <tr>\n",
       "      <th>0</th>\n",
       "      <td>39</td>\n",
       "      <td>State-gov</td>\n",
       "      <td>77516</td>\n",
       "      <td>Bachelors</td>\n",
       "      <td>13</td>\n",
       "      <td>Never-married</td>\n",
       "      <td>Adm-clerical</td>\n",
       "      <td>Not-in-family</td>\n",
       "      <td>White</td>\n",
       "      <td>Male</td>\n",
       "      <td>2174</td>\n",
       "      <td>0</td>\n",
       "      <td>40</td>\n",
       "      <td>United-States</td>\n",
       "      <td>&lt;=50K</td>\n",
       "    </tr>\n",
       "    <tr>\n",
       "      <th>1</th>\n",
       "      <td>50</td>\n",
       "      <td>Self-emp-not-inc</td>\n",
       "      <td>83311</td>\n",
       "      <td>Bachelors</td>\n",
       "      <td>13</td>\n",
       "      <td>Married-civ-spouse</td>\n",
       "      <td>Exec-managerial</td>\n",
       "      <td>Husband</td>\n",
       "      <td>White</td>\n",
       "      <td>Male</td>\n",
       "      <td>0</td>\n",
       "      <td>0</td>\n",
       "      <td>13</td>\n",
       "      <td>United-States</td>\n",
       "      <td>&lt;=50K</td>\n",
       "    </tr>\n",
       "    <tr>\n",
       "      <th>2</th>\n",
       "      <td>38</td>\n",
       "      <td>Private</td>\n",
       "      <td>215646</td>\n",
       "      <td>HS-grad</td>\n",
       "      <td>9</td>\n",
       "      <td>Divorced</td>\n",
       "      <td>Handlers-cleaners</td>\n",
       "      <td>Not-in-family</td>\n",
       "      <td>White</td>\n",
       "      <td>Male</td>\n",
       "      <td>0</td>\n",
       "      <td>0</td>\n",
       "      <td>40</td>\n",
       "      <td>United-States</td>\n",
       "      <td>&lt;=50K</td>\n",
       "    </tr>\n",
       "    <tr>\n",
       "      <th>3</th>\n",
       "      <td>53</td>\n",
       "      <td>Private</td>\n",
       "      <td>234721</td>\n",
       "      <td>11th</td>\n",
       "      <td>7</td>\n",
       "      <td>Married-civ-spouse</td>\n",
       "      <td>Handlers-cleaners</td>\n",
       "      <td>Husband</td>\n",
       "      <td>Black</td>\n",
       "      <td>Male</td>\n",
       "      <td>0</td>\n",
       "      <td>0</td>\n",
       "      <td>40</td>\n",
       "      <td>United-States</td>\n",
       "      <td>&lt;=50K</td>\n",
       "    </tr>\n",
       "    <tr>\n",
       "      <th>4</th>\n",
       "      <td>28</td>\n",
       "      <td>Private</td>\n",
       "      <td>338409</td>\n",
       "      <td>Bachelors</td>\n",
       "      <td>13</td>\n",
       "      <td>Married-civ-spouse</td>\n",
       "      <td>Prof-specialty</td>\n",
       "      <td>Wife</td>\n",
       "      <td>Black</td>\n",
       "      <td>Female</td>\n",
       "      <td>0</td>\n",
       "      <td>0</td>\n",
       "      <td>40</td>\n",
       "      <td>Cuba</td>\n",
       "      <td>&lt;=50K</td>\n",
       "    </tr>\n",
       "  </tbody>\n",
       "</table>\n",
       "</div>"
      ],
      "text/plain": [
       "   age          workclass  fnlwgt   education  education_num  \\\n",
       "0   39          State-gov   77516   Bachelors             13   \n",
       "1   50   Self-emp-not-inc   83311   Bachelors             13   \n",
       "2   38            Private  215646     HS-grad              9   \n",
       "3   53            Private  234721        11th              7   \n",
       "4   28            Private  338409   Bachelors             13   \n",
       "\n",
       "        marital_status          occupation    relationship    race      sex  \\\n",
       "0        Never-married        Adm-clerical   Not-in-family   White     Male   \n",
       "1   Married-civ-spouse     Exec-managerial         Husband   White     Male   \n",
       "2             Divorced   Handlers-cleaners   Not-in-family   White     Male   \n",
       "3   Married-civ-spouse   Handlers-cleaners         Husband   Black     Male   \n",
       "4   Married-civ-spouse      Prof-specialty            Wife   Black   Female   \n",
       "\n",
       "   capital_gain  capital_loss  hours_per_week  native_country  salary  \n",
       "0          2174             0              40   United-States   <=50K  \n",
       "1             0             0              13   United-States   <=50K  \n",
       "2             0             0              40   United-States   <=50K  \n",
       "3             0             0              40   United-States   <=50K  \n",
       "4             0             0              40            Cuba   <=50K  "
      ]
     },
     "execution_count": 2,
     "metadata": {},
     "output_type": "execute_result"
    }
   ],
   "source": [
    "data = pd.read_csv('D:/Machine Learning/Kaggle Project/Income of Adults/adult_data.csv')\n",
    "data.head()"
   ]
  },
  {
   "cell_type": "code",
   "execution_count": 3,
   "id": "d6096613",
   "metadata": {},
   "outputs": [
    {
     "data": {
      "text/plain": [
       "(32561, 15)"
      ]
     },
     "execution_count": 3,
     "metadata": {},
     "output_type": "execute_result"
    }
   ],
   "source": [
    "data.shape"
   ]
  },
  {
   "cell_type": "code",
   "execution_count": 4,
   "id": "c33b6058",
   "metadata": {},
   "outputs": [
    {
     "name": "stdout",
     "output_type": "stream",
     "text": [
      "<class 'pandas.core.frame.DataFrame'>\n",
      "RangeIndex: 32561 entries, 0 to 32560\n",
      "Data columns (total 15 columns):\n",
      " #   Column          Non-Null Count  Dtype \n",
      "---  ------          --------------  ----- \n",
      " 0   age             32561 non-null  int64 \n",
      " 1   workclass       32561 non-null  object\n",
      " 2   fnlwgt          32561 non-null  int64 \n",
      " 3   education       32561 non-null  object\n",
      " 4   education_num   32561 non-null  int64 \n",
      " 5   marital_status  32561 non-null  object\n",
      " 6   occupation      32561 non-null  object\n",
      " 7   relationship    32561 non-null  object\n",
      " 8   race            32561 non-null  object\n",
      " 9   sex             32561 non-null  object\n",
      " 10  capital_gain    32561 non-null  int64 \n",
      " 11  capital_loss    32561 non-null  int64 \n",
      " 12  hours_per_week  32561 non-null  int64 \n",
      " 13  native_country  32561 non-null  object\n",
      " 14  salary          32561 non-null  object\n",
      "dtypes: int64(6), object(9)\n",
      "memory usage: 3.7+ MB\n"
     ]
    }
   ],
   "source": [
    "data.info()"
   ]
  },
  {
   "cell_type": "markdown",
   "id": "67fb5c9d",
   "metadata": {},
   "source": [
    "# Understanding Data"
   ]
  },
  {
   "cell_type": "code",
   "execution_count": 5,
   "id": "4da2408e",
   "metadata": {},
   "outputs": [
    {
     "data": {
      "text/plain": [
       "Index(['age', 'workclass', 'fnlwgt', 'education', 'education_num',\n",
       "       'marital_status', 'occupation', 'relationship', 'race', 'sex',\n",
       "       'capital_gain', 'capital_loss', 'hours_per_week', 'native_country',\n",
       "       'salary'],\n",
       "      dtype='object')"
      ]
     },
     "execution_count": 5,
     "metadata": {},
     "output_type": "execute_result"
    }
   ],
   "source": [
    "data.columns"
   ]
  },
  {
   "cell_type": "markdown",
   "id": "80a56527",
   "metadata": {},
   "source": [
    "# Check the data types"
   ]
  },
  {
   "cell_type": "code",
   "execution_count": 6,
   "id": "264a61dd",
   "metadata": {},
   "outputs": [
    {
     "name": "stdout",
     "output_type": "stream",
     "text": [
      "<class 'pandas.core.frame.DataFrame'>\n",
      "RangeIndex: 32561 entries, 0 to 32560\n",
      "Data columns (total 15 columns):\n",
      " #   Column          Non-Null Count  Dtype \n",
      "---  ------          --------------  ----- \n",
      " 0   age             32561 non-null  int64 \n",
      " 1   workclass       32561 non-null  object\n",
      " 2   fnlwgt          32561 non-null  int64 \n",
      " 3   education       32561 non-null  object\n",
      " 4   education_num   32561 non-null  int64 \n",
      " 5   marital_status  32561 non-null  object\n",
      " 6   occupation      32561 non-null  object\n",
      " 7   relationship    32561 non-null  object\n",
      " 8   race            32561 non-null  object\n",
      " 9   sex             32561 non-null  object\n",
      " 10  capital_gain    32561 non-null  int64 \n",
      " 11  capital_loss    32561 non-null  int64 \n",
      " 12  hours_per_week  32561 non-null  int64 \n",
      " 13  native_country  32561 non-null  object\n",
      " 14  salary          32561 non-null  object\n",
      "dtypes: int64(6), object(9)\n",
      "memory usage: 3.7+ MB\n"
     ]
    }
   ],
   "source": [
    "data.info()"
   ]
  },
  {
   "cell_type": "code",
   "execution_count": 7,
   "id": "4c9246d4",
   "metadata": {},
   "outputs": [
    {
     "data": {
      "text/html": [
       "<div>\n",
       "<style scoped>\n",
       "    .dataframe tbody tr th:only-of-type {\n",
       "        vertical-align: middle;\n",
       "    }\n",
       "\n",
       "    .dataframe tbody tr th {\n",
       "        vertical-align: top;\n",
       "    }\n",
       "\n",
       "    .dataframe thead th {\n",
       "        text-align: right;\n",
       "    }\n",
       "</style>\n",
       "<table border=\"1\" class=\"dataframe\">\n",
       "  <thead>\n",
       "    <tr style=\"text-align: right;\">\n",
       "      <th></th>\n",
       "      <th>age</th>\n",
       "      <th>fnlwgt</th>\n",
       "      <th>education_num</th>\n",
       "      <th>capital_gain</th>\n",
       "      <th>capital_loss</th>\n",
       "      <th>hours_per_week</th>\n",
       "    </tr>\n",
       "  </thead>\n",
       "  <tbody>\n",
       "    <tr>\n",
       "      <th>count</th>\n",
       "      <td>32561.000000</td>\n",
       "      <td>3.256100e+04</td>\n",
       "      <td>32561.000000</td>\n",
       "      <td>32561.000000</td>\n",
       "      <td>32561.000000</td>\n",
       "      <td>32561.000000</td>\n",
       "    </tr>\n",
       "    <tr>\n",
       "      <th>mean</th>\n",
       "      <td>38.581647</td>\n",
       "      <td>1.897784e+05</td>\n",
       "      <td>10.080679</td>\n",
       "      <td>1077.648844</td>\n",
       "      <td>87.303830</td>\n",
       "      <td>40.437456</td>\n",
       "    </tr>\n",
       "    <tr>\n",
       "      <th>std</th>\n",
       "      <td>13.640433</td>\n",
       "      <td>1.055500e+05</td>\n",
       "      <td>2.572720</td>\n",
       "      <td>7385.292085</td>\n",
       "      <td>402.960219</td>\n",
       "      <td>12.347429</td>\n",
       "    </tr>\n",
       "    <tr>\n",
       "      <th>min</th>\n",
       "      <td>17.000000</td>\n",
       "      <td>1.228500e+04</td>\n",
       "      <td>1.000000</td>\n",
       "      <td>0.000000</td>\n",
       "      <td>0.000000</td>\n",
       "      <td>1.000000</td>\n",
       "    </tr>\n",
       "    <tr>\n",
       "      <th>25%</th>\n",
       "      <td>28.000000</td>\n",
       "      <td>1.178270e+05</td>\n",
       "      <td>9.000000</td>\n",
       "      <td>0.000000</td>\n",
       "      <td>0.000000</td>\n",
       "      <td>40.000000</td>\n",
       "    </tr>\n",
       "    <tr>\n",
       "      <th>50%</th>\n",
       "      <td>37.000000</td>\n",
       "      <td>1.783560e+05</td>\n",
       "      <td>10.000000</td>\n",
       "      <td>0.000000</td>\n",
       "      <td>0.000000</td>\n",
       "      <td>40.000000</td>\n",
       "    </tr>\n",
       "    <tr>\n",
       "      <th>75%</th>\n",
       "      <td>48.000000</td>\n",
       "      <td>2.370510e+05</td>\n",
       "      <td>12.000000</td>\n",
       "      <td>0.000000</td>\n",
       "      <td>0.000000</td>\n",
       "      <td>45.000000</td>\n",
       "    </tr>\n",
       "    <tr>\n",
       "      <th>max</th>\n",
       "      <td>90.000000</td>\n",
       "      <td>1.484705e+06</td>\n",
       "      <td>16.000000</td>\n",
       "      <td>99999.000000</td>\n",
       "      <td>4356.000000</td>\n",
       "      <td>99.000000</td>\n",
       "    </tr>\n",
       "  </tbody>\n",
       "</table>\n",
       "</div>"
      ],
      "text/plain": [
       "                age        fnlwgt  education_num  capital_gain  capital_loss  \\\n",
       "count  32561.000000  3.256100e+04   32561.000000  32561.000000  32561.000000   \n",
       "mean      38.581647  1.897784e+05      10.080679   1077.648844     87.303830   \n",
       "std       13.640433  1.055500e+05       2.572720   7385.292085    402.960219   \n",
       "min       17.000000  1.228500e+04       1.000000      0.000000      0.000000   \n",
       "25%       28.000000  1.178270e+05       9.000000      0.000000      0.000000   \n",
       "50%       37.000000  1.783560e+05      10.000000      0.000000      0.000000   \n",
       "75%       48.000000  2.370510e+05      12.000000      0.000000      0.000000   \n",
       "max       90.000000  1.484705e+06      16.000000  99999.000000   4356.000000   \n",
       "\n",
       "       hours_per_week  \n",
       "count    32561.000000  \n",
       "mean        40.437456  \n",
       "std         12.347429  \n",
       "min          1.000000  \n",
       "25%         40.000000  \n",
       "50%         40.000000  \n",
       "75%         45.000000  \n",
       "max         99.000000  "
      ]
     },
     "execution_count": 7,
     "metadata": {},
     "output_type": "execute_result"
    }
   ],
   "source": [
    "data.describe()"
   ]
  },
  {
   "cell_type": "markdown",
   "id": "99147077",
   "metadata": {},
   "source": [
    "# Checking for duplicates"
   ]
  },
  {
   "cell_type": "code",
   "execution_count": 8,
   "id": "012244c8",
   "metadata": {
    "scrolled": false
   },
   "outputs": [
    {
     "data": {
      "text/html": [
       "<div>\n",
       "<style scoped>\n",
       "    .dataframe tbody tr th:only-of-type {\n",
       "        vertical-align: middle;\n",
       "    }\n",
       "\n",
       "    .dataframe tbody tr th {\n",
       "        vertical-align: top;\n",
       "    }\n",
       "\n",
       "    .dataframe thead th {\n",
       "        text-align: right;\n",
       "    }\n",
       "</style>\n",
       "<table border=\"1\" class=\"dataframe\">\n",
       "  <thead>\n",
       "    <tr style=\"text-align: right;\">\n",
       "      <th></th>\n",
       "      <th>age</th>\n",
       "      <th>workclass</th>\n",
       "      <th>fnlwgt</th>\n",
       "      <th>education</th>\n",
       "      <th>education_num</th>\n",
       "      <th>marital_status</th>\n",
       "      <th>occupation</th>\n",
       "      <th>relationship</th>\n",
       "      <th>race</th>\n",
       "      <th>sex</th>\n",
       "      <th>capital_gain</th>\n",
       "      <th>capital_loss</th>\n",
       "      <th>hours_per_week</th>\n",
       "      <th>native_country</th>\n",
       "      <th>salary</th>\n",
       "    </tr>\n",
       "  </thead>\n",
       "  <tbody>\n",
       "    <tr>\n",
       "      <th>4881</th>\n",
       "      <td>25</td>\n",
       "      <td>Private</td>\n",
       "      <td>308144</td>\n",
       "      <td>Bachelors</td>\n",
       "      <td>13</td>\n",
       "      <td>Never-married</td>\n",
       "      <td>Craft-repair</td>\n",
       "      <td>Not-in-family</td>\n",
       "      <td>White</td>\n",
       "      <td>Male</td>\n",
       "      <td>0</td>\n",
       "      <td>0</td>\n",
       "      <td>40</td>\n",
       "      <td>Mexico</td>\n",
       "      <td>&lt;=50K</td>\n",
       "    </tr>\n",
       "    <tr>\n",
       "      <th>5104</th>\n",
       "      <td>90</td>\n",
       "      <td>Private</td>\n",
       "      <td>52386</td>\n",
       "      <td>Some-college</td>\n",
       "      <td>10</td>\n",
       "      <td>Never-married</td>\n",
       "      <td>Other-service</td>\n",
       "      <td>Not-in-family</td>\n",
       "      <td>Asian-Pac-Islander</td>\n",
       "      <td>Male</td>\n",
       "      <td>0</td>\n",
       "      <td>0</td>\n",
       "      <td>35</td>\n",
       "      <td>United-States</td>\n",
       "      <td>&lt;=50K</td>\n",
       "    </tr>\n",
       "    <tr>\n",
       "      <th>9171</th>\n",
       "      <td>21</td>\n",
       "      <td>Private</td>\n",
       "      <td>250051</td>\n",
       "      <td>Some-college</td>\n",
       "      <td>10</td>\n",
       "      <td>Never-married</td>\n",
       "      <td>Prof-specialty</td>\n",
       "      <td>Own-child</td>\n",
       "      <td>White</td>\n",
       "      <td>Female</td>\n",
       "      <td>0</td>\n",
       "      <td>0</td>\n",
       "      <td>10</td>\n",
       "      <td>United-States</td>\n",
       "      <td>&lt;=50K</td>\n",
       "    </tr>\n",
       "    <tr>\n",
       "      <th>11631</th>\n",
       "      <td>20</td>\n",
       "      <td>Private</td>\n",
       "      <td>107658</td>\n",
       "      <td>Some-college</td>\n",
       "      <td>10</td>\n",
       "      <td>Never-married</td>\n",
       "      <td>Tech-support</td>\n",
       "      <td>Not-in-family</td>\n",
       "      <td>White</td>\n",
       "      <td>Female</td>\n",
       "      <td>0</td>\n",
       "      <td>0</td>\n",
       "      <td>10</td>\n",
       "      <td>United-States</td>\n",
       "      <td>&lt;=50K</td>\n",
       "    </tr>\n",
       "    <tr>\n",
       "      <th>13084</th>\n",
       "      <td>25</td>\n",
       "      <td>Private</td>\n",
       "      <td>195994</td>\n",
       "      <td>1st-4th</td>\n",
       "      <td>2</td>\n",
       "      <td>Never-married</td>\n",
       "      <td>Priv-house-serv</td>\n",
       "      <td>Not-in-family</td>\n",
       "      <td>White</td>\n",
       "      <td>Female</td>\n",
       "      <td>0</td>\n",
       "      <td>0</td>\n",
       "      <td>40</td>\n",
       "      <td>Guatemala</td>\n",
       "      <td>&lt;=50K</td>\n",
       "    </tr>\n",
       "    <tr>\n",
       "      <th>15059</th>\n",
       "      <td>21</td>\n",
       "      <td>Private</td>\n",
       "      <td>243368</td>\n",
       "      <td>Preschool</td>\n",
       "      <td>1</td>\n",
       "      <td>Never-married</td>\n",
       "      <td>Farming-fishing</td>\n",
       "      <td>Not-in-family</td>\n",
       "      <td>White</td>\n",
       "      <td>Male</td>\n",
       "      <td>0</td>\n",
       "      <td>0</td>\n",
       "      <td>50</td>\n",
       "      <td>Mexico</td>\n",
       "      <td>&lt;=50K</td>\n",
       "    </tr>\n",
       "    <tr>\n",
       "      <th>17040</th>\n",
       "      <td>46</td>\n",
       "      <td>Private</td>\n",
       "      <td>173243</td>\n",
       "      <td>HS-grad</td>\n",
       "      <td>9</td>\n",
       "      <td>Married-civ-spouse</td>\n",
       "      <td>Craft-repair</td>\n",
       "      <td>Husband</td>\n",
       "      <td>White</td>\n",
       "      <td>Male</td>\n",
       "      <td>0</td>\n",
       "      <td>0</td>\n",
       "      <td>40</td>\n",
       "      <td>United-States</td>\n",
       "      <td>&lt;=50K</td>\n",
       "    </tr>\n",
       "    <tr>\n",
       "      <th>18555</th>\n",
       "      <td>30</td>\n",
       "      <td>Private</td>\n",
       "      <td>144593</td>\n",
       "      <td>HS-grad</td>\n",
       "      <td>9</td>\n",
       "      <td>Never-married</td>\n",
       "      <td>Other-service</td>\n",
       "      <td>Not-in-family</td>\n",
       "      <td>Black</td>\n",
       "      <td>Male</td>\n",
       "      <td>0</td>\n",
       "      <td>0</td>\n",
       "      <td>40</td>\n",
       "      <td>?</td>\n",
       "      <td>&lt;=50K</td>\n",
       "    </tr>\n",
       "    <tr>\n",
       "      <th>18698</th>\n",
       "      <td>19</td>\n",
       "      <td>Private</td>\n",
       "      <td>97261</td>\n",
       "      <td>HS-grad</td>\n",
       "      <td>9</td>\n",
       "      <td>Never-married</td>\n",
       "      <td>Farming-fishing</td>\n",
       "      <td>Not-in-family</td>\n",
       "      <td>White</td>\n",
       "      <td>Male</td>\n",
       "      <td>0</td>\n",
       "      <td>0</td>\n",
       "      <td>40</td>\n",
       "      <td>United-States</td>\n",
       "      <td>&lt;=50K</td>\n",
       "    </tr>\n",
       "    <tr>\n",
       "      <th>21318</th>\n",
       "      <td>19</td>\n",
       "      <td>Private</td>\n",
       "      <td>138153</td>\n",
       "      <td>Some-college</td>\n",
       "      <td>10</td>\n",
       "      <td>Never-married</td>\n",
       "      <td>Adm-clerical</td>\n",
       "      <td>Own-child</td>\n",
       "      <td>White</td>\n",
       "      <td>Female</td>\n",
       "      <td>0</td>\n",
       "      <td>0</td>\n",
       "      <td>10</td>\n",
       "      <td>United-States</td>\n",
       "      <td>&lt;=50K</td>\n",
       "    </tr>\n",
       "    <tr>\n",
       "      <th>21490</th>\n",
       "      <td>19</td>\n",
       "      <td>Private</td>\n",
       "      <td>146679</td>\n",
       "      <td>Some-college</td>\n",
       "      <td>10</td>\n",
       "      <td>Never-married</td>\n",
       "      <td>Exec-managerial</td>\n",
       "      <td>Own-child</td>\n",
       "      <td>Black</td>\n",
       "      <td>Male</td>\n",
       "      <td>0</td>\n",
       "      <td>0</td>\n",
       "      <td>30</td>\n",
       "      <td>United-States</td>\n",
       "      <td>&lt;=50K</td>\n",
       "    </tr>\n",
       "    <tr>\n",
       "      <th>21875</th>\n",
       "      <td>49</td>\n",
       "      <td>Private</td>\n",
       "      <td>31267</td>\n",
       "      <td>7th-8th</td>\n",
       "      <td>4</td>\n",
       "      <td>Married-civ-spouse</td>\n",
       "      <td>Craft-repair</td>\n",
       "      <td>Husband</td>\n",
       "      <td>White</td>\n",
       "      <td>Male</td>\n",
       "      <td>0</td>\n",
       "      <td>0</td>\n",
       "      <td>40</td>\n",
       "      <td>United-States</td>\n",
       "      <td>&lt;=50K</td>\n",
       "    </tr>\n",
       "    <tr>\n",
       "      <th>22300</th>\n",
       "      <td>25</td>\n",
       "      <td>Private</td>\n",
       "      <td>195994</td>\n",
       "      <td>1st-4th</td>\n",
       "      <td>2</td>\n",
       "      <td>Never-married</td>\n",
       "      <td>Priv-house-serv</td>\n",
       "      <td>Not-in-family</td>\n",
       "      <td>White</td>\n",
       "      <td>Female</td>\n",
       "      <td>0</td>\n",
       "      <td>0</td>\n",
       "      <td>40</td>\n",
       "      <td>Guatemala</td>\n",
       "      <td>&lt;=50K</td>\n",
       "    </tr>\n",
       "    <tr>\n",
       "      <th>22367</th>\n",
       "      <td>44</td>\n",
       "      <td>Private</td>\n",
       "      <td>367749</td>\n",
       "      <td>Bachelors</td>\n",
       "      <td>13</td>\n",
       "      <td>Never-married</td>\n",
       "      <td>Prof-specialty</td>\n",
       "      <td>Not-in-family</td>\n",
       "      <td>White</td>\n",
       "      <td>Female</td>\n",
       "      <td>0</td>\n",
       "      <td>0</td>\n",
       "      <td>45</td>\n",
       "      <td>Mexico</td>\n",
       "      <td>&lt;=50K</td>\n",
       "    </tr>\n",
       "    <tr>\n",
       "      <th>22494</th>\n",
       "      <td>49</td>\n",
       "      <td>Self-emp-not-inc</td>\n",
       "      <td>43479</td>\n",
       "      <td>Some-college</td>\n",
       "      <td>10</td>\n",
       "      <td>Married-civ-spouse</td>\n",
       "      <td>Craft-repair</td>\n",
       "      <td>Husband</td>\n",
       "      <td>White</td>\n",
       "      <td>Male</td>\n",
       "      <td>0</td>\n",
       "      <td>0</td>\n",
       "      <td>40</td>\n",
       "      <td>United-States</td>\n",
       "      <td>&lt;=50K</td>\n",
       "    </tr>\n",
       "    <tr>\n",
       "      <th>25872</th>\n",
       "      <td>23</td>\n",
       "      <td>Private</td>\n",
       "      <td>240137</td>\n",
       "      <td>5th-6th</td>\n",
       "      <td>3</td>\n",
       "      <td>Never-married</td>\n",
       "      <td>Handlers-cleaners</td>\n",
       "      <td>Not-in-family</td>\n",
       "      <td>White</td>\n",
       "      <td>Male</td>\n",
       "      <td>0</td>\n",
       "      <td>0</td>\n",
       "      <td>55</td>\n",
       "      <td>Mexico</td>\n",
       "      <td>&lt;=50K</td>\n",
       "    </tr>\n",
       "    <tr>\n",
       "      <th>26313</th>\n",
       "      <td>28</td>\n",
       "      <td>Private</td>\n",
       "      <td>274679</td>\n",
       "      <td>Masters</td>\n",
       "      <td>14</td>\n",
       "      <td>Never-married</td>\n",
       "      <td>Prof-specialty</td>\n",
       "      <td>Not-in-family</td>\n",
       "      <td>White</td>\n",
       "      <td>Male</td>\n",
       "      <td>0</td>\n",
       "      <td>0</td>\n",
       "      <td>50</td>\n",
       "      <td>United-States</td>\n",
       "      <td>&lt;=50K</td>\n",
       "    </tr>\n",
       "    <tr>\n",
       "      <th>28230</th>\n",
       "      <td>27</td>\n",
       "      <td>Private</td>\n",
       "      <td>255582</td>\n",
       "      <td>HS-grad</td>\n",
       "      <td>9</td>\n",
       "      <td>Never-married</td>\n",
       "      <td>Machine-op-inspct</td>\n",
       "      <td>Not-in-family</td>\n",
       "      <td>White</td>\n",
       "      <td>Female</td>\n",
       "      <td>0</td>\n",
       "      <td>0</td>\n",
       "      <td>40</td>\n",
       "      <td>United-States</td>\n",
       "      <td>&lt;=50K</td>\n",
       "    </tr>\n",
       "    <tr>\n",
       "      <th>28522</th>\n",
       "      <td>42</td>\n",
       "      <td>Private</td>\n",
       "      <td>204235</td>\n",
       "      <td>Some-college</td>\n",
       "      <td>10</td>\n",
       "      <td>Married-civ-spouse</td>\n",
       "      <td>Prof-specialty</td>\n",
       "      <td>Husband</td>\n",
       "      <td>White</td>\n",
       "      <td>Male</td>\n",
       "      <td>0</td>\n",
       "      <td>0</td>\n",
       "      <td>40</td>\n",
       "      <td>United-States</td>\n",
       "      <td>&gt;50K</td>\n",
       "    </tr>\n",
       "    <tr>\n",
       "      <th>28846</th>\n",
       "      <td>39</td>\n",
       "      <td>Private</td>\n",
       "      <td>30916</td>\n",
       "      <td>HS-grad</td>\n",
       "      <td>9</td>\n",
       "      <td>Married-civ-spouse</td>\n",
       "      <td>Craft-repair</td>\n",
       "      <td>Husband</td>\n",
       "      <td>White</td>\n",
       "      <td>Male</td>\n",
       "      <td>0</td>\n",
       "      <td>0</td>\n",
       "      <td>40</td>\n",
       "      <td>United-States</td>\n",
       "      <td>&lt;=50K</td>\n",
       "    </tr>\n",
       "    <tr>\n",
       "      <th>29157</th>\n",
       "      <td>38</td>\n",
       "      <td>Private</td>\n",
       "      <td>207202</td>\n",
       "      <td>HS-grad</td>\n",
       "      <td>9</td>\n",
       "      <td>Married-civ-spouse</td>\n",
       "      <td>Machine-op-inspct</td>\n",
       "      <td>Husband</td>\n",
       "      <td>White</td>\n",
       "      <td>Male</td>\n",
       "      <td>0</td>\n",
       "      <td>0</td>\n",
       "      <td>48</td>\n",
       "      <td>United-States</td>\n",
       "      <td>&gt;50K</td>\n",
       "    </tr>\n",
       "    <tr>\n",
       "      <th>30845</th>\n",
       "      <td>46</td>\n",
       "      <td>Private</td>\n",
       "      <td>133616</td>\n",
       "      <td>Some-college</td>\n",
       "      <td>10</td>\n",
       "      <td>Divorced</td>\n",
       "      <td>Adm-clerical</td>\n",
       "      <td>Unmarried</td>\n",
       "      <td>White</td>\n",
       "      <td>Female</td>\n",
       "      <td>0</td>\n",
       "      <td>0</td>\n",
       "      <td>40</td>\n",
       "      <td>United-States</td>\n",
       "      <td>&lt;=50K</td>\n",
       "    </tr>\n",
       "    <tr>\n",
       "      <th>31993</th>\n",
       "      <td>19</td>\n",
       "      <td>Private</td>\n",
       "      <td>251579</td>\n",
       "      <td>Some-college</td>\n",
       "      <td>10</td>\n",
       "      <td>Never-married</td>\n",
       "      <td>Other-service</td>\n",
       "      <td>Own-child</td>\n",
       "      <td>White</td>\n",
       "      <td>Male</td>\n",
       "      <td>0</td>\n",
       "      <td>0</td>\n",
       "      <td>14</td>\n",
       "      <td>United-States</td>\n",
       "      <td>&lt;=50K</td>\n",
       "    </tr>\n",
       "    <tr>\n",
       "      <th>32404</th>\n",
       "      <td>35</td>\n",
       "      <td>Private</td>\n",
       "      <td>379959</td>\n",
       "      <td>HS-grad</td>\n",
       "      <td>9</td>\n",
       "      <td>Divorced</td>\n",
       "      <td>Other-service</td>\n",
       "      <td>Not-in-family</td>\n",
       "      <td>White</td>\n",
       "      <td>Female</td>\n",
       "      <td>0</td>\n",
       "      <td>0</td>\n",
       "      <td>40</td>\n",
       "      <td>United-States</td>\n",
       "      <td>&lt;=50K</td>\n",
       "    </tr>\n",
       "  </tbody>\n",
       "</table>\n",
       "</div>"
      ],
      "text/plain": [
       "       age          workclass  fnlwgt      education  education_num  \\\n",
       "4881    25            Private  308144      Bachelors             13   \n",
       "5104    90            Private   52386   Some-college             10   \n",
       "9171    21            Private  250051   Some-college             10   \n",
       "11631   20            Private  107658   Some-college             10   \n",
       "13084   25            Private  195994        1st-4th              2   \n",
       "15059   21            Private  243368      Preschool              1   \n",
       "17040   46            Private  173243        HS-grad              9   \n",
       "18555   30            Private  144593        HS-grad              9   \n",
       "18698   19            Private   97261        HS-grad              9   \n",
       "21318   19            Private  138153   Some-college             10   \n",
       "21490   19            Private  146679   Some-college             10   \n",
       "21875   49            Private   31267        7th-8th              4   \n",
       "22300   25            Private  195994        1st-4th              2   \n",
       "22367   44            Private  367749      Bachelors             13   \n",
       "22494   49   Self-emp-not-inc   43479   Some-college             10   \n",
       "25872   23            Private  240137        5th-6th              3   \n",
       "26313   28            Private  274679        Masters             14   \n",
       "28230   27            Private  255582        HS-grad              9   \n",
       "28522   42            Private  204235   Some-college             10   \n",
       "28846   39            Private   30916        HS-grad              9   \n",
       "29157   38            Private  207202        HS-grad              9   \n",
       "30845   46            Private  133616   Some-college             10   \n",
       "31993   19            Private  251579   Some-college             10   \n",
       "32404   35            Private  379959        HS-grad              9   \n",
       "\n",
       "            marital_status          occupation    relationship  \\\n",
       "4881         Never-married        Craft-repair   Not-in-family   \n",
       "5104         Never-married       Other-service   Not-in-family   \n",
       "9171         Never-married      Prof-specialty       Own-child   \n",
       "11631        Never-married        Tech-support   Not-in-family   \n",
       "13084        Never-married     Priv-house-serv   Not-in-family   \n",
       "15059        Never-married     Farming-fishing   Not-in-family   \n",
       "17040   Married-civ-spouse        Craft-repair         Husband   \n",
       "18555        Never-married       Other-service   Not-in-family   \n",
       "18698        Never-married     Farming-fishing   Not-in-family   \n",
       "21318        Never-married        Adm-clerical       Own-child   \n",
       "21490        Never-married     Exec-managerial       Own-child   \n",
       "21875   Married-civ-spouse        Craft-repair         Husband   \n",
       "22300        Never-married     Priv-house-serv   Not-in-family   \n",
       "22367        Never-married      Prof-specialty   Not-in-family   \n",
       "22494   Married-civ-spouse        Craft-repair         Husband   \n",
       "25872        Never-married   Handlers-cleaners   Not-in-family   \n",
       "26313        Never-married      Prof-specialty   Not-in-family   \n",
       "28230        Never-married   Machine-op-inspct   Not-in-family   \n",
       "28522   Married-civ-spouse      Prof-specialty         Husband   \n",
       "28846   Married-civ-spouse        Craft-repair         Husband   \n",
       "29157   Married-civ-spouse   Machine-op-inspct         Husband   \n",
       "30845             Divorced        Adm-clerical       Unmarried   \n",
       "31993        Never-married       Other-service       Own-child   \n",
       "32404             Divorced       Other-service   Not-in-family   \n",
       "\n",
       "                      race      sex  capital_gain  capital_loss  \\\n",
       "4881                 White     Male             0             0   \n",
       "5104    Asian-Pac-Islander     Male             0             0   \n",
       "9171                 White   Female             0             0   \n",
       "11631                White   Female             0             0   \n",
       "13084                White   Female             0             0   \n",
       "15059                White     Male             0             0   \n",
       "17040                White     Male             0             0   \n",
       "18555                Black     Male             0             0   \n",
       "18698                White     Male             0             0   \n",
       "21318                White   Female             0             0   \n",
       "21490                Black     Male             0             0   \n",
       "21875                White     Male             0             0   \n",
       "22300                White   Female             0             0   \n",
       "22367                White   Female             0             0   \n",
       "22494                White     Male             0             0   \n",
       "25872                White     Male             0             0   \n",
       "26313                White     Male             0             0   \n",
       "28230                White   Female             0             0   \n",
       "28522                White     Male             0             0   \n",
       "28846                White     Male             0             0   \n",
       "29157                White     Male             0             0   \n",
       "30845                White   Female             0             0   \n",
       "31993                White     Male             0             0   \n",
       "32404                White   Female             0             0   \n",
       "\n",
       "       hours_per_week  native_country  salary  \n",
       "4881               40          Mexico   <=50K  \n",
       "5104               35   United-States   <=50K  \n",
       "9171               10   United-States   <=50K  \n",
       "11631              10   United-States   <=50K  \n",
       "13084              40       Guatemala   <=50K  \n",
       "15059              50          Mexico   <=50K  \n",
       "17040              40   United-States   <=50K  \n",
       "18555              40               ?   <=50K  \n",
       "18698              40   United-States   <=50K  \n",
       "21318              10   United-States   <=50K  \n",
       "21490              30   United-States   <=50K  \n",
       "21875              40   United-States   <=50K  \n",
       "22300              40       Guatemala   <=50K  \n",
       "22367              45          Mexico   <=50K  \n",
       "22494              40   United-States   <=50K  \n",
       "25872              55          Mexico   <=50K  \n",
       "26313              50   United-States   <=50K  \n",
       "28230              40   United-States   <=50K  \n",
       "28522              40   United-States    >50K  \n",
       "28846              40   United-States   <=50K  \n",
       "29157              48   United-States    >50K  \n",
       "30845              40   United-States   <=50K  \n",
       "31993              14   United-States   <=50K  \n",
       "32404              40   United-States   <=50K  "
      ]
     },
     "execution_count": 8,
     "metadata": {},
     "output_type": "execute_result"
    }
   ],
   "source": [
    "data.loc[data.duplicated()]"
   ]
  },
  {
   "cell_type": "code",
   "execution_count": 9,
   "id": "829b9547",
   "metadata": {},
   "outputs": [],
   "source": [
    "data.drop_duplicates(inplace = True)"
   ]
  },
  {
   "cell_type": "code",
   "execution_count": 10,
   "id": "894ec8a1",
   "metadata": {},
   "outputs": [
    {
     "data": {
      "text/html": [
       "<div>\n",
       "<style scoped>\n",
       "    .dataframe tbody tr th:only-of-type {\n",
       "        vertical-align: middle;\n",
       "    }\n",
       "\n",
       "    .dataframe tbody tr th {\n",
       "        vertical-align: top;\n",
       "    }\n",
       "\n",
       "    .dataframe thead th {\n",
       "        text-align: right;\n",
       "    }\n",
       "</style>\n",
       "<table border=\"1\" class=\"dataframe\">\n",
       "  <thead>\n",
       "    <tr style=\"text-align: right;\">\n",
       "      <th></th>\n",
       "      <th>age</th>\n",
       "      <th>workclass</th>\n",
       "      <th>fnlwgt</th>\n",
       "      <th>education</th>\n",
       "      <th>education_num</th>\n",
       "      <th>marital_status</th>\n",
       "      <th>occupation</th>\n",
       "      <th>relationship</th>\n",
       "      <th>race</th>\n",
       "      <th>sex</th>\n",
       "      <th>capital_gain</th>\n",
       "      <th>capital_loss</th>\n",
       "      <th>hours_per_week</th>\n",
       "      <th>native_country</th>\n",
       "      <th>salary</th>\n",
       "    </tr>\n",
       "  </thead>\n",
       "  <tbody>\n",
       "  </tbody>\n",
       "</table>\n",
       "</div>"
      ],
      "text/plain": [
       "Empty DataFrame\n",
       "Columns: [age, workclass, fnlwgt, education, education_num, marital_status, occupation, relationship, race, sex, capital_gain, capital_loss, hours_per_week, native_country, salary]\n",
       "Index: []"
      ]
     },
     "execution_count": 10,
     "metadata": {},
     "output_type": "execute_result"
    }
   ],
   "source": [
    "data.loc[data.duplicated()]"
   ]
  },
  {
   "cell_type": "markdown",
   "id": "c62ae11a",
   "metadata": {},
   "source": [
    "# Segregating numerical and categorical variables"
   ]
  },
  {
   "cell_type": "code",
   "execution_count": 11,
   "id": "565db367",
   "metadata": {},
   "outputs": [],
   "source": [
    "cat_col = data.select_dtypes(include = ['object']).columns\n",
    "num_col = data.select_dtypes(exclude = ['object']).columns"
   ]
  },
  {
   "cell_type": "code",
   "execution_count": 12,
   "id": "516d83be",
   "metadata": {},
   "outputs": [],
   "source": [
    "data_cat = data[cat_col]\n",
    "data_num = data[num_col]"
   ]
  },
  {
   "cell_type": "code",
   "execution_count": 13,
   "id": "d2511cec",
   "metadata": {},
   "outputs": [
    {
     "data": {
      "text/html": [
       "<div>\n",
       "<style scoped>\n",
       "    .dataframe tbody tr th:only-of-type {\n",
       "        vertical-align: middle;\n",
       "    }\n",
       "\n",
       "    .dataframe tbody tr th {\n",
       "        vertical-align: top;\n",
       "    }\n",
       "\n",
       "    .dataframe thead th {\n",
       "        text-align: right;\n",
       "    }\n",
       "</style>\n",
       "<table border=\"1\" class=\"dataframe\">\n",
       "  <thead>\n",
       "    <tr style=\"text-align: right;\">\n",
       "      <th></th>\n",
       "      <th>workclass</th>\n",
       "      <th>education</th>\n",
       "      <th>marital_status</th>\n",
       "      <th>occupation</th>\n",
       "      <th>relationship</th>\n",
       "      <th>race</th>\n",
       "      <th>sex</th>\n",
       "      <th>native_country</th>\n",
       "      <th>salary</th>\n",
       "    </tr>\n",
       "  </thead>\n",
       "  <tbody>\n",
       "    <tr>\n",
       "      <th>0</th>\n",
       "      <td>State-gov</td>\n",
       "      <td>Bachelors</td>\n",
       "      <td>Never-married</td>\n",
       "      <td>Adm-clerical</td>\n",
       "      <td>Not-in-family</td>\n",
       "      <td>White</td>\n",
       "      <td>Male</td>\n",
       "      <td>United-States</td>\n",
       "      <td>&lt;=50K</td>\n",
       "    </tr>\n",
       "    <tr>\n",
       "      <th>1</th>\n",
       "      <td>Self-emp-not-inc</td>\n",
       "      <td>Bachelors</td>\n",
       "      <td>Married-civ-spouse</td>\n",
       "      <td>Exec-managerial</td>\n",
       "      <td>Husband</td>\n",
       "      <td>White</td>\n",
       "      <td>Male</td>\n",
       "      <td>United-States</td>\n",
       "      <td>&lt;=50K</td>\n",
       "    </tr>\n",
       "    <tr>\n",
       "      <th>2</th>\n",
       "      <td>Private</td>\n",
       "      <td>HS-grad</td>\n",
       "      <td>Divorced</td>\n",
       "      <td>Handlers-cleaners</td>\n",
       "      <td>Not-in-family</td>\n",
       "      <td>White</td>\n",
       "      <td>Male</td>\n",
       "      <td>United-States</td>\n",
       "      <td>&lt;=50K</td>\n",
       "    </tr>\n",
       "    <tr>\n",
       "      <th>3</th>\n",
       "      <td>Private</td>\n",
       "      <td>11th</td>\n",
       "      <td>Married-civ-spouse</td>\n",
       "      <td>Handlers-cleaners</td>\n",
       "      <td>Husband</td>\n",
       "      <td>Black</td>\n",
       "      <td>Male</td>\n",
       "      <td>United-States</td>\n",
       "      <td>&lt;=50K</td>\n",
       "    </tr>\n",
       "    <tr>\n",
       "      <th>4</th>\n",
       "      <td>Private</td>\n",
       "      <td>Bachelors</td>\n",
       "      <td>Married-civ-spouse</td>\n",
       "      <td>Prof-specialty</td>\n",
       "      <td>Wife</td>\n",
       "      <td>Black</td>\n",
       "      <td>Female</td>\n",
       "      <td>Cuba</td>\n",
       "      <td>&lt;=50K</td>\n",
       "    </tr>\n",
       "    <tr>\n",
       "      <th>...</th>\n",
       "      <td>...</td>\n",
       "      <td>...</td>\n",
       "      <td>...</td>\n",
       "      <td>...</td>\n",
       "      <td>...</td>\n",
       "      <td>...</td>\n",
       "      <td>...</td>\n",
       "      <td>...</td>\n",
       "      <td>...</td>\n",
       "    </tr>\n",
       "    <tr>\n",
       "      <th>32556</th>\n",
       "      <td>Private</td>\n",
       "      <td>Assoc-acdm</td>\n",
       "      <td>Married-civ-spouse</td>\n",
       "      <td>Tech-support</td>\n",
       "      <td>Wife</td>\n",
       "      <td>White</td>\n",
       "      <td>Female</td>\n",
       "      <td>United-States</td>\n",
       "      <td>&lt;=50K</td>\n",
       "    </tr>\n",
       "    <tr>\n",
       "      <th>32557</th>\n",
       "      <td>Private</td>\n",
       "      <td>HS-grad</td>\n",
       "      <td>Married-civ-spouse</td>\n",
       "      <td>Machine-op-inspct</td>\n",
       "      <td>Husband</td>\n",
       "      <td>White</td>\n",
       "      <td>Male</td>\n",
       "      <td>United-States</td>\n",
       "      <td>&gt;50K</td>\n",
       "    </tr>\n",
       "    <tr>\n",
       "      <th>32558</th>\n",
       "      <td>Private</td>\n",
       "      <td>HS-grad</td>\n",
       "      <td>Widowed</td>\n",
       "      <td>Adm-clerical</td>\n",
       "      <td>Unmarried</td>\n",
       "      <td>White</td>\n",
       "      <td>Female</td>\n",
       "      <td>United-States</td>\n",
       "      <td>&lt;=50K</td>\n",
       "    </tr>\n",
       "    <tr>\n",
       "      <th>32559</th>\n",
       "      <td>Private</td>\n",
       "      <td>HS-grad</td>\n",
       "      <td>Never-married</td>\n",
       "      <td>Adm-clerical</td>\n",
       "      <td>Own-child</td>\n",
       "      <td>White</td>\n",
       "      <td>Male</td>\n",
       "      <td>United-States</td>\n",
       "      <td>&lt;=50K</td>\n",
       "    </tr>\n",
       "    <tr>\n",
       "      <th>32560</th>\n",
       "      <td>Self-emp-inc</td>\n",
       "      <td>HS-grad</td>\n",
       "      <td>Married-civ-spouse</td>\n",
       "      <td>Exec-managerial</td>\n",
       "      <td>Wife</td>\n",
       "      <td>White</td>\n",
       "      <td>Female</td>\n",
       "      <td>United-States</td>\n",
       "      <td>&gt;50K</td>\n",
       "    </tr>\n",
       "  </tbody>\n",
       "</table>\n",
       "<p>32537 rows × 9 columns</p>\n",
       "</div>"
      ],
      "text/plain": [
       "               workclass    education       marital_status  \\\n",
       "0              State-gov    Bachelors        Never-married   \n",
       "1       Self-emp-not-inc    Bachelors   Married-civ-spouse   \n",
       "2                Private      HS-grad             Divorced   \n",
       "3                Private         11th   Married-civ-spouse   \n",
       "4                Private    Bachelors   Married-civ-spouse   \n",
       "...                  ...          ...                  ...   \n",
       "32556            Private   Assoc-acdm   Married-civ-spouse   \n",
       "32557            Private      HS-grad   Married-civ-spouse   \n",
       "32558            Private      HS-grad              Widowed   \n",
       "32559            Private      HS-grad        Never-married   \n",
       "32560       Self-emp-inc      HS-grad   Married-civ-spouse   \n",
       "\n",
       "               occupation    relationship    race      sex  native_country  \\\n",
       "0            Adm-clerical   Not-in-family   White     Male   United-States   \n",
       "1         Exec-managerial         Husband   White     Male   United-States   \n",
       "2       Handlers-cleaners   Not-in-family   White     Male   United-States   \n",
       "3       Handlers-cleaners         Husband   Black     Male   United-States   \n",
       "4          Prof-specialty            Wife   Black   Female            Cuba   \n",
       "...                   ...             ...     ...      ...             ...   \n",
       "32556        Tech-support            Wife   White   Female   United-States   \n",
       "32557   Machine-op-inspct         Husband   White     Male   United-States   \n",
       "32558        Adm-clerical       Unmarried   White   Female   United-States   \n",
       "32559        Adm-clerical       Own-child   White     Male   United-States   \n",
       "32560     Exec-managerial            Wife   White   Female   United-States   \n",
       "\n",
       "       salary  \n",
       "0       <=50K  \n",
       "1       <=50K  \n",
       "2       <=50K  \n",
       "3       <=50K  \n",
       "4       <=50K  \n",
       "...       ...  \n",
       "32556   <=50K  \n",
       "32557    >50K  \n",
       "32558   <=50K  \n",
       "32559   <=50K  \n",
       "32560    >50K  \n",
       "\n",
       "[32537 rows x 9 columns]"
      ]
     },
     "execution_count": 13,
     "metadata": {},
     "output_type": "execute_result"
    }
   ],
   "source": [
    "data_cat"
   ]
  },
  {
   "cell_type": "markdown",
   "id": "2e448574",
   "metadata": {},
   "source": [
    "# Value counts of object variables"
   ]
  },
  {
   "cell_type": "code",
   "execution_count": 14,
   "id": "eb28f8be",
   "metadata": {
    "scrolled": true
   },
   "outputs": [
    {
     "name": "stdout",
     "output_type": "stream",
     "text": [
      "workclass\n",
      "                   Counts\n",
      " Private            22673\n",
      " Self-emp-not-inc    2540\n",
      " Local-gov           2093\n",
      " ?                   1836\n",
      " State-gov           1298\n",
      " Self-emp-inc        1116\n",
      " Federal-gov          960\n",
      " Without-pay           14\n",
      " Never-worked           7\n",
      "\n",
      "education\n",
      "               Counts\n",
      " HS-grad        10494\n",
      " Some-college    7282\n",
      " Bachelors       5353\n",
      " Masters         1722\n",
      " Assoc-voc       1382\n",
      " 11th            1175\n",
      " Assoc-acdm      1067\n",
      " 10th             933\n",
      " 7th-8th          645\n",
      " Prof-school      576\n",
      " 9th              514\n",
      " 12th             433\n",
      " Doctorate        413\n",
      " 5th-6th          332\n",
      " 1st-4th          166\n",
      " Preschool         50\n",
      "\n",
      "marital_status\n",
      "                        Counts\n",
      " Married-civ-spouse      14970\n",
      " Never-married           10667\n",
      " Divorced                 4441\n",
      " Separated                1025\n",
      " Widowed                   993\n",
      " Married-spouse-absent     418\n",
      " Married-AF-spouse          23\n",
      "\n",
      "occupation\n",
      "                    Counts\n",
      " Prof-specialty       4136\n",
      " Craft-repair         4094\n",
      " Exec-managerial      4065\n",
      " Adm-clerical         3768\n",
      " Sales                3650\n",
      " Other-service        3291\n",
      " Machine-op-inspct    2000\n",
      " ?                    1843\n",
      " Transport-moving     1597\n",
      " Handlers-cleaners    1369\n",
      " Farming-fishing       992\n",
      " Tech-support          927\n",
      " Protective-serv       649\n",
      " Priv-house-serv       147\n",
      " Armed-Forces            9\n",
      "\n",
      "relationship\n",
      "                 Counts\n",
      " Husband          13187\n",
      " Not-in-family     8292\n",
      " Own-child         5064\n",
      " Unmarried         3445\n",
      " Wife              1568\n",
      " Other-relative     981\n",
      "\n",
      "race\n",
      "                     Counts\n",
      " White                27795\n",
      " Black                 3122\n",
      " Asian-Pac-Islander    1038\n",
      " Amer-Indian-Eskimo     311\n",
      " Other                  271\n",
      "\n",
      "sex\n",
      "         Counts\n",
      " Male     21775\n",
      " Female   10762\n",
      "\n",
      "native_country\n",
      "                             Counts\n",
      " United-States                29153\n",
      " Mexico                         639\n",
      " ?                              582\n",
      " Philippines                    198\n",
      " Germany                        137\n",
      " Canada                         121\n",
      " Puerto-Rico                    114\n",
      " El-Salvador                    106\n",
      " India                          100\n",
      " Cuba                            95\n",
      " England                         90\n",
      " Jamaica                         81\n",
      " South                           80\n",
      " China                           75\n",
      " Italy                           73\n",
      " Dominican-Republic              70\n",
      " Vietnam                         67\n",
      " Guatemala                       62\n",
      " Japan                           62\n",
      " Poland                          60\n",
      " Columbia                        59\n",
      " Taiwan                          51\n",
      " Haiti                           44\n",
      " Iran                            43\n",
      " Portugal                        37\n",
      " Nicaragua                       34\n",
      " Peru                            31\n",
      " Greece                          29\n",
      " France                          29\n",
      " Ecuador                         28\n",
      " Ireland                         24\n",
      " Hong                            20\n",
      " Cambodia                        19\n",
      " Trinadad&Tobago                 19\n",
      " Thailand                        18\n",
      " Laos                            18\n",
      " Yugoslavia                      16\n",
      " Outlying-US(Guam-USVI-etc)      14\n",
      " Honduras                        13\n",
      " Hungary                         13\n",
      " Scotland                        12\n",
      " Holand-Netherlands               1\n",
      "\n",
      "salary\n",
      "        Counts\n",
      " <=50K   24698\n",
      " >50K     7839\n",
      "\n"
     ]
    }
   ],
   "source": [
    "for col in data_cat:\n",
    "    vc = data[col].value_counts()\n",
    "    print(col)\n",
    "    print(pd.DataFrame({'Counts' : vc}))\n",
    "    print('')"
   ]
  },
  {
   "cell_type": "code",
   "execution_count": 15,
   "id": "b2672526",
   "metadata": {},
   "outputs": [],
   "source": [
    "for col in data_cat:\n",
    "    data[col].replace(' ?', data[col].mode()[0], inplace = True)"
   ]
  },
  {
   "cell_type": "code",
   "execution_count": 16,
   "id": "61f88ebd",
   "metadata": {
    "scrolled": true
   },
   "outputs": [
    {
     "name": "stdout",
     "output_type": "stream",
     "text": [
      "workclass\n",
      "                   Counts\n",
      " Private            24509\n",
      " Self-emp-not-inc    2540\n",
      " Local-gov           2093\n",
      " State-gov           1298\n",
      " Self-emp-inc        1116\n",
      " Federal-gov          960\n",
      " Without-pay           14\n",
      " Never-worked           7\n",
      "\n",
      "education\n",
      "               Counts\n",
      " HS-grad        10494\n",
      " Some-college    7282\n",
      " Bachelors       5353\n",
      " Masters         1722\n",
      " Assoc-voc       1382\n",
      " 11th            1175\n",
      " Assoc-acdm      1067\n",
      " 10th             933\n",
      " 7th-8th          645\n",
      " Prof-school      576\n",
      " 9th              514\n",
      " 12th             433\n",
      " Doctorate        413\n",
      " 5th-6th          332\n",
      " 1st-4th          166\n",
      " Preschool         50\n",
      "\n",
      "marital_status\n",
      "                        Counts\n",
      " Married-civ-spouse      14970\n",
      " Never-married           10667\n",
      " Divorced                 4441\n",
      " Separated                1025\n",
      " Widowed                   993\n",
      " Married-spouse-absent     418\n",
      " Married-AF-spouse          23\n",
      "\n",
      "occupation\n",
      "                    Counts\n",
      " Prof-specialty       5979\n",
      " Craft-repair         4094\n",
      " Exec-managerial      4065\n",
      " Adm-clerical         3768\n",
      " Sales                3650\n",
      " Other-service        3291\n",
      " Machine-op-inspct    2000\n",
      " Transport-moving     1597\n",
      " Handlers-cleaners    1369\n",
      " Farming-fishing       992\n",
      " Tech-support          927\n",
      " Protective-serv       649\n",
      " Priv-house-serv       147\n",
      " Armed-Forces            9\n",
      "\n",
      "relationship\n",
      "                 Counts\n",
      " Husband          13187\n",
      " Not-in-family     8292\n",
      " Own-child         5064\n",
      " Unmarried         3445\n",
      " Wife              1568\n",
      " Other-relative     981\n",
      "\n",
      "race\n",
      "                     Counts\n",
      " White                27795\n",
      " Black                 3122\n",
      " Asian-Pac-Islander    1038\n",
      " Amer-Indian-Eskimo     311\n",
      " Other                  271\n",
      "\n",
      "sex\n",
      "         Counts\n",
      " Male     21775\n",
      " Female   10762\n",
      "\n",
      "native_country\n",
      "                             Counts\n",
      " United-States                29735\n",
      " Mexico                         639\n",
      " Philippines                    198\n",
      " Germany                        137\n",
      " Canada                         121\n",
      " Puerto-Rico                    114\n",
      " El-Salvador                    106\n",
      " India                          100\n",
      " Cuba                            95\n",
      " England                         90\n",
      " Jamaica                         81\n",
      " South                           80\n",
      " China                           75\n",
      " Italy                           73\n",
      " Dominican-Republic              70\n",
      " Vietnam                         67\n",
      " Japan                           62\n",
      " Guatemala                       62\n",
      " Poland                          60\n",
      " Columbia                        59\n",
      " Taiwan                          51\n",
      " Haiti                           44\n",
      " Iran                            43\n",
      " Portugal                        37\n",
      " Nicaragua                       34\n",
      " Peru                            31\n",
      " France                          29\n",
      " Greece                          29\n",
      " Ecuador                         28\n",
      " Ireland                         24\n",
      " Hong                            20\n",
      " Cambodia                        19\n",
      " Trinadad&Tobago                 19\n",
      " Laos                            18\n",
      " Thailand                        18\n",
      " Yugoslavia                      16\n",
      " Outlying-US(Guam-USVI-etc)      14\n",
      " Honduras                        13\n",
      " Hungary                         13\n",
      " Scotland                        12\n",
      " Holand-Netherlands               1\n",
      "\n",
      "salary\n",
      "        Counts\n",
      " <=50K   24698\n",
      " >50K     7839\n",
      "\n"
     ]
    }
   ],
   "source": [
    "for col in data_cat:\n",
    "    vc = data[col].value_counts()\n",
    "    print(col)\n",
    "    print(pd.DataFrame({'Counts' : vc}))\n",
    "    print('')"
   ]
  },
  {
   "cell_type": "markdown",
   "id": "dde2de27",
   "metadata": {},
   "source": [
    "# Visualizing the object variables"
   ]
  },
  {
   "cell_type": "code",
   "execution_count": 17,
   "id": "f4d59f0b",
   "metadata": {},
   "outputs": [
    {
     "data": {
      "image/png": "[encoded data removed]",
      "text/plain": [
       "<Figure size 864x864 with 1 Axes>"
      ]
     },
     "metadata": {
      "needs_background": "light"
     },
     "output_type": "display_data"
    },
    {
     "name": "stdout",
     "output_type": "stream",
     "text": [
      "\n"
     ]
    },
    {
     "data": {
      "image/png": "[encoded data removed]",
      "text/plain": [
       "<Figure size 864x864 with 1 Axes>"
      ]
     },
     "metadata": {
      "needs_background": "light"
     },
     "output_type": "display_data"
    },
    {
     "name": "stdout",
     "output_type": "stream",
     "text": [
      "\n"
     ]
    },
    {
     "data": {
      "image/png": "[encoded data removed]",
      "text/plain": [
       "<Figure size 864x864 with 1 Axes>"
      ]
     },
     "metadata": {
      "needs_background": "light"
     },
     "output_type": "display_data"
    },
    {
     "name": "stdout",
     "output_type": "stream",
     "text": [
      "\n"
     ]
    },
    {
     "data": {
      "image/png": "[encoded data removed]",
      "text/plain": [
       "<Figure size 864x864 with 1 Axes>"
      ]
     },
     "metadata": {
      "needs_background": "light"
     },
     "output_type": "display_data"
    },
    {
     "name": "stdout",
     "output_type": "stream",
     "text": [
      "\n"
     ]
    },
    {
     "data": {
      "image/png": "[encoded data removed]",
      "text/plain": [
       "<Figure size 864x864 with 1 Axes>"
      ]
     },
     "metadata": {
      "needs_background": "light"
     },
     "output_type": "display_data"
    },
    {
     "name": "stdout",
     "output_type": "stream",
     "text": [
      "\n"
     ]
    },
    {
     "data": {
      "image/png": "[encoded data removed]",
      "text/plain": [
       "<Figure size 864x864 with 1 Axes>"
      ]
     },
     "metadata": {
      "needs_background": "light"
     },
     "output_type": "display_data"
    },
    {
     "name": "stdout",
     "output_type": "stream",
     "text": [
      "\n"
     ]
    },
    {
     "data": {
      "image/png": "[encoded data removed]",
      "text/plain": [
       "<Figure size 864x864 with 1 Axes>"
      ]
     },
     "metadata": {
      "needs_background": "light"
     },
     "output_type": "display_data"
    },
    {
     "name": "stdout",
     "output_type": "stream",
     "text": [
      "\n"
     ]
    },
    {
     "data": {
      "image/png": "[encoded data removed]",
      "text/plain": [
       "<Figure size 864x864 with 1 Axes>"
      ]
     },
     "metadata": {
      "needs_background": "light"
     },
     "output_type": "display_data"
    },
    {
     "name": "stdout",
     "output_type": "stream",
     "text": [
      "\n"
     ]
    },
    {
     "data": {
      "image/png": "[encoded data removed]",
      "text/plain": [
       "<Figure size 864x864 with 1 Axes>"
      ]
     },
     "metadata": {
      "needs_background": "light"
     },
     "output_type": "display_data"
    },
    {
     "name": "stdout",
     "output_type": "stream",
     "text": [
      "\n"
     ]
    }
   ],
   "source": [
    "for col in data_cat:\n",
    "    sns.countplot(data[col])\n",
    "    plt.xlabel(col)\n",
    "    plt.ylabel('count')\n",
    "    plt.title('Count plot of {}'.format(col))\n",
    "    plt.show()\n",
    "    print('')"
   ]
  },
  {
   "cell_type": "markdown",
   "id": "78fcdf18",
   "metadata": {},
   "source": [
    "# Cross tab for object variable"
   ]
  },
  {
   "cell_type": "code",
   "execution_count": 18,
   "id": "d3a28b40",
   "metadata": {
    "scrolled": true
   },
   "outputs": [
    {
     "name": "stdout",
     "output_type": "stream",
     "text": [
      "workclass\n",
      "(922.3498477209453, 7.156800770833626e-195, 7, array([[7.28711313e+02, 2.31288687e+02],\n",
      "       [1.58874248e+03, 5.04257522e+02],\n",
      "       [5.31351999e+00, 1.68648001e+00],\n",
      "       [1.86041516e+04, 5.90484836e+03],\n",
      "       [8.47126902e+02, 2.68873098e+02],\n",
      "       [1.92804868e+03, 6.11951317e+02],\n",
      "       [9.85278421e+02, 3.12721579e+02],\n",
      "       [1.06270400e+01, 3.37296001e+00]]))\n",
      "\n",
      "education\n",
      "(4428.404687554787, 0.0, 15, array([[ 708.21630759,  224.78369241],\n",
      "       [ 891.91228448,  283.08771552],\n",
      "       [ 328.67916526,  104.32083474],\n",
      "       [ 126.00633125,   39.99366875],\n",
      "       [ 252.01266251,   79.98733749],\n",
      "       [ 489.60291361,  155.39708639],\n",
      "       [ 390.16418232,  123.83581768],\n",
      "       [ 809.93226173,  257.06773827],\n",
      "       [1049.0406614 ,  332.9593386 ],\n",
      "       [4063.32464579, 1289.67535421],\n",
      "       [ 313.49767956,   99.50232044],\n",
      "       [7965.72554323, 2528.27445677],\n",
      "       [1307.12591819,  414.87408181],\n",
      "       [  37.95371423,   12.04628577],\n",
      "       [ 437.22678796,  138.77321204],\n",
      "       [5527.5789409 , 1754.4210591 ]]))\n",
      "\n",
      "marital_status\n",
      "(6510.332126761207, 0.0, 6, array([[3.37104890e+03, 1.06995110e+03],\n",
      "       [1.74587085e+01, 5.54129145e+00],\n",
      "       [1.13633420e+04, 3.60665796e+03],\n",
      "       [3.17293051e+02, 1.00706949e+02],\n",
      "       [8.09704539e+03, 2.56995461e+03],\n",
      "       [7.78051142e+02, 2.46948858e+02],\n",
      "       [7.53760765e+02, 2.39239235e+02]]))\n",
      "\n",
      "occupation\n",
      "(3197.612778407624, 0.0, 13, array([[2.86019190e+03, 9.07808095e+02],\n",
      "       [6.83166856e+00, 2.16833144e+00],\n",
      "       [3.10765012e+03, 9.86349879e+02],\n",
      "       [3.08563697e+03, 9.79363033e+02],\n",
      "       [7.53001690e+02, 2.38998310e+02],\n",
      "       [1.03917270e+03, 3.29827304e+02],\n",
      "       [1.51814857e+03, 4.81851431e+02],\n",
      "       [2.49811347e+03, 7.92886529e+02],\n",
      "       [1.11583920e+02, 3.54160802e+01],\n",
      "       [4.53850515e+03, 1.44049485e+03],\n",
      "       [4.92639211e+02, 1.56360789e+02],\n",
      "       [2.77062114e+03, 8.79378861e+02],\n",
      "       [7.03661862e+02, 2.23338138e+02],\n",
      "       [1.21224163e+03, 3.84758367e+02]]))\n",
      "\n",
      "relationship\n",
      "(6692.09880313626, 0.0, 5, array([[10009.91259182,  3177.08740818],\n",
      "       [ 6294.24396841,  1997.75603159],\n",
      "       [  744.65187325,   236.34812675],\n",
      "       [ 3843.95217752,  1220.04782248],\n",
      "       [ 2615.01091066,   829.98908934],\n",
      "       [ 1190.22847835,   377.77152165]]))\n",
      "\n",
      "race\n",
      "(330.94339926366814, 2.2797874171824478e-70, 4, array([[  236.07210253,    74.92789747],\n",
      "       [  787.91910748,   250.08089252],\n",
      "       [ 2369.82991671,   752.17008329],\n",
      "       [  205.70913114,    65.29086886],\n",
      "       [21098.46974214,  6696.53025786]]))\n",
      "\n",
      "sex\n",
      "(1517.6129170398258, 0.0, 1, array([[ 8169.15745152,  2592.84254848],\n",
      "       [16528.84254848,  5246.15745152]]))\n",
      "\n",
      "native_country\n",
      "(315.3720987639804, 1.7625237545277189e-44, 40, array([[1.44224114e+01, 4.57758859e+00],\n",
      "       [9.18479884e+01, 2.91520116e+01],\n",
      "       [5.69305713e+01, 1.80694287e+01],\n",
      "       [4.47853828e+01, 1.42146172e+01],\n",
      "       [7.21120570e+01, 2.28879430e+01],\n",
      "       [5.31351999e+01, 1.68648001e+01],\n",
      "       [2.12540800e+01, 6.74592003e+00],\n",
      "       [8.04618742e+01, 2.55381258e+01],\n",
      "       [6.83166856e+01, 2.16833144e+01],\n",
      "       [2.20131543e+01, 6.98684574e+00],\n",
      "       [1.03993177e+02, 3.30068230e+01],\n",
      "       [2.20131543e+01, 6.98684574e+00],\n",
      "       [4.70626056e+01, 1.49373944e+01],\n",
      "       [3.33992685e+01, 1.06007315e+01],\n",
      "       [7.59074285e-01, 2.40925715e-01],\n",
      "       [9.86796570e+00, 3.13203430e+00],\n",
      "       [1.51814857e+01, 4.81851431e+00],\n",
      "       [9.86796570e+00, 3.13203430e+00],\n",
      "       [7.59074285e+01, 2.40925715e+01],\n",
      "       [3.26401942e+01, 1.03598058e+01],\n",
      "       [1.82177828e+01, 5.78221717e+00],\n",
      "       [5.54124228e+01, 1.75875772e+01],\n",
      "       [6.14850171e+01, 1.95149829e+01],\n",
      "       [4.70626056e+01, 1.49373944e+01],\n",
      "       [1.36633371e+01, 4.33666288e+00],\n",
      "       [4.85048468e+02, 1.53951532e+02],\n",
      "       [2.58085257e+01, 8.19147432e+00],\n",
      "       [1.06270400e+01, 3.37296001e+00],\n",
      "       [2.35313028e+01, 7.46869718e+00],\n",
      "       [1.50296708e+02, 4.77032916e+01],\n",
      "       [4.55444571e+01, 1.44555429e+01],\n",
      "       [2.80857485e+01, 8.91425147e+00],\n",
      "       [8.65344685e+01, 2.74655315e+01],\n",
      "       [9.10889142e+00, 2.89110858e+00],\n",
      "       [6.07259428e+01, 1.92740572e+01],\n",
      "       [3.87127885e+01, 1.22872115e+01],\n",
      "       [1.36633371e+01, 4.33666288e+00],\n",
      "       [1.44224114e+01, 4.57758859e+00],\n",
      "       [2.25710739e+04, 7.16392615e+03],\n",
      "       [5.08579771e+01, 1.61420229e+01],\n",
      "       [1.21451886e+01, 3.85481145e+00]]))\n",
      "\n"
     ]
    }
   ],
   "source": [
    "for col in data_cat.columns[:-1]:\n",
    "    print(col)\n",
    "    ct = pd.crosstab(data[col], data.salary)\n",
    "    print(chi2_contingency(ct, correction = False))\n",
    "    print('')"
   ]
  },
  {
   "cell_type": "markdown",
   "id": "99176eb9",
   "metadata": {},
   "source": [
    "# Count plot for predict variable with response variable"
   ]
  },
  {
   "cell_type": "code",
   "execution_count": 19,
   "id": "d0f995ee",
   "metadata": {},
   "outputs": [
    {
     "data": {
      "image/png": "[encoded data removed]",
      "text/plain": [
       "<Figure size 864x864 with 1 Axes>"
      ]
     },
     "metadata": {
      "needs_background": "light"
     },
     "output_type": "display_data"
    },
    {
     "name": "stdout",
     "output_type": "stream",
     "text": [
      "\n"
     ]
    },
    {
     "data": {
      "image/png": "[encoded data removed]",
      "text/plain": [
       "<Figure size 864x864 with 1 Axes>"
      ]
     },
     "metadata": {
      "needs_background": "light"
     },
     "output_type": "display_data"
    },
    {
     "name": "stdout",
     "output_type": "stream",
     "text": [
      "\n"
     ]
    },
    {
     "data": {
      "image/png": "[encoded data removed]",
      "text/plain": [
       "<Figure size 864x864 with 1 Axes>"
      ]
     },
     "metadata": {
      "needs_background": "light"
     },
     "output_type": "display_data"
    },
    {
     "name": "stdout",
     "output_type": "stream",
     "text": [
      "\n"
     ]
    },
    {
     "data": {
      "image/png": "[encoded data removed]",
      "text/plain": [
       "<Figure size 864x864 with 1 Axes>"
      ]
     },
     "metadata": {
      "needs_background": "light"
     },
     "output_type": "display_data"
    },
    {
     "name": "stdout",
     "output_type": "stream",
     "text": [
      "\n"
     ]
    },
    {
     "data": {
      "image/png": "[encoded data removed]",
      "text/plain": [
       "<Figure size 864x864 with 1 Axes>"
      ]
     },
     "metadata": {
      "needs_background": "light"
     },
     "output_type": "display_data"
    },
    {
     "name": "stdout",
     "output_type": "stream",
     "text": [
      "\n"
     ]
    },
    {
     "data": {
      "image/png": "[encoded data removed]",
      "text/plain": [
       "<Figure size 864x864 with 1 Axes>"
      ]
     },
     "metadata": {
      "needs_background": "light"
     },
     "output_type": "display_data"
    },
    {
     "name": "stdout",
     "output_type": "stream",
     "text": [
      "\n"
     ]
    },
    {
     "data": {
      "image/png": "[encoded data removed]",
      "text/plain": [
       "<Figure size 864x864 with 1 Axes>"
      ]
     },
     "metadata": {
      "needs_background": "light"
     },
     "output_type": "display_data"
    },
    {
     "name": "stdout",
     "output_type": "stream",
     "text": [
      "\n"
     ]
    },
    {
     "data": {
      "image/png": "[encoded data removed]",
      "text/plain": [
       "<Figure size 864x864 with 1 Axes>"
      ]
     },
     "metadata": {
      "needs_background": "light"
     },
     "output_type": "display_data"
    },
    {
     "name": "stdout",
     "output_type": "stream",
     "text": [
      "\n"
     ]
    },
    {
     "data": {
      "image/png": "[encoded data removed]",
      "text/plain": [
       "<Figure size 864x864 with 1 Axes>"
      ]
     },
     "metadata": {
      "needs_background": "light"
     },
     "output_type": "display_data"
    },
    {
     "name": "stdout",
     "output_type": "stream",
     "text": [
      "\n"
     ]
    }
   ],
   "source": [
    "for col in data_cat[:-1]:\n",
    "    sns.countplot(data[col], hue = data.salary)\n",
    "    plt.xlabel(col)\n",
    "    plt.ylabel('Count')\n",
    "    plt.title('Count plot of {0} and salary'.format(col))\n",
    "    plt.show()\n",
    "    print('')"
   ]
  },
  {
   "cell_type": "markdown",
   "id": "10676de7",
   "metadata": {},
   "source": [
    "# "
   ]
  },
  {
   "cell_type": "markdown",
   "id": "663290ab",
   "metadata": {},
   "source": [
    "# "
   ]
  },
  {
   "cell_type": "markdown",
   "id": "db7662b3",
   "metadata": {},
   "source": [
    "# Visualizing for continues variable"
   ]
  },
  {
   "cell_type": "code",
   "execution_count": 20,
   "id": "c912e7d4",
   "metadata": {},
   "outputs": [
    {
     "data": {
      "image/png": "[encoded data removed]",
      "text/plain": [
       "<Figure size 864x864 with 1 Axes>"
      ]
     },
     "metadata": {
      "needs_background": "light"
     },
     "output_type": "display_data"
    },
    {
     "name": "stdout",
     "output_type": "stream",
     "text": [
      "\n"
     ]
    },
    {
     "data": {
      "image/png": "[encoded data removed]",
      "text/plain": [
       "<Figure size 864x864 with 1 Axes>"
      ]
     },
     "metadata": {
      "needs_background": "light"
     },
     "output_type": "display_data"
    },
    {
     "name": "stdout",
     "output_type": "stream",
     "text": [
      "\n"
     ]
    },
    {
     "data": {
      "image/png": "[encoded data removed]",
      "text/plain": [
       "<Figure size 864x864 with 1 Axes>"
      ]
     },
     "metadata": {
      "needs_background": "light"
     },
     "output_type": "display_data"
    },
    {
     "name": "stdout",
     "output_type": "stream",
     "text": [
      "\n"
     ]
    },
    {
     "data": {
      "image/png": "[encoded data removed]",
      "text/plain": [
       "<Figure size 864x864 with 1 Axes>"
      ]
     },
     "metadata": {
      "needs_background": "light"
     },
     "output_type": "display_data"
    },
    {
     "name": "stdout",
     "output_type": "stream",
     "text": [
      "\n"
     ]
    },
    {
     "data": {
      "image/png": "[encoded data removed]",
      "text/plain": [
       "<Figure size 864x864 with 1 Axes>"
      ]
     },
     "metadata": {
      "needs_background": "light"
     },
     "output_type": "display_data"
    },
    {
     "name": "stdout",
     "output_type": "stream",
     "text": [
      "\n"
     ]
    },
    {
     "data": {
      "image/png": "[encoded data removed]",
      "text/plain": [
       "<Figure size 864x864 with 1 Axes>"
      ]
     },
     "metadata": {
      "needs_background": "light"
     },
     "output_type": "display_data"
    },
    {
     "name": "stdout",
     "output_type": "stream",
     "text": [
      "\n"
     ]
    }
   ],
   "source": [
    "for col in data_num:\n",
    "    plt.hist(data[col])\n",
    "    plt.xlabel(col)\n",
    "    plt.ylabel('count')\n",
    "    plt.title('Histogram of {}'.format(col))\n",
    "    plt.show()\n",
    "    print('')"
   ]
  },
  {
   "cell_type": "code",
   "execution_count": 21,
   "id": "368bdb37",
   "metadata": {},
   "outputs": [
    {
     "data": {
      "image/png": "[encoded data removed]",
      "text/plain": [
       "<Figure size 864x864 with 1 Axes>"
      ]
     },
     "metadata": {
      "needs_background": "light"
     },
     "output_type": "display_data"
    },
    {
     "name": "stdout",
     "output_type": "stream",
     "text": [
      "IQR of age is 20.0\n",
      "Upper_limit of age is 78.0\n",
      "Lower_limit of age is -2.0\n",
      "Length of Upper_limit of age is 142\n",
      "Length of Lower_limit of age is 0\n",
      "\n"
     ]
    },
    {
     "data": {
      "image/png": "[encoded data removed]",
      "text/plain": [
       "<Figure size 864x864 with 1 Axes>"
      ]
     },
     "metadata": {
      "needs_background": "light"
     },
     "output_type": "display_data"
    },
    {
     "name": "stdout",
     "output_type": "stream",
     "text": [
      "IQR of fnlwgt is 119166.0\n",
      "Upper_limit of fnlwgt is 415742.0\n",
      "Lower_limit of fnlwgt is -60922.0\n",
      "Length of Upper_limit of fnlwgt is 993\n",
      "Length of Lower_limit of fnlwgt is 0\n",
      "\n"
     ]
    },
    {
     "data": {
      "image/png": "[encoded data removed]",
      "text/plain": [
       "<Figure size 864x864 with 1 Axes>"
      ]
     },
     "metadata": {
      "needs_background": "light"
     },
     "output_type": "display_data"
    },
    {
     "name": "stdout",
     "output_type": "stream",
     "text": [
      "IQR of education_num is 3.0\n",
      "Upper_limit of education_num is 16.5\n",
      "Lower_limit of education_num is 4.5\n",
      "Length of Upper_limit of education_num is 0\n",
      "Length of Lower_limit of education_num is 1193\n",
      "\n"
     ]
    },
    {
     "data": {
      "image/png": "[encoded data removed]",
      "text/plain": [
       "<Figure size 864x864 with 1 Axes>"
      ]
     },
     "metadata": {
      "needs_background": "light"
     },
     "output_type": "display_data"
    },
    {
     "name": "stdout",
     "output_type": "stream",
     "text": [
      "IQR of capital_gain is 0.0\n",
      "Upper_limit of capital_gain is 0.0\n",
      "Lower_limit of capital_gain is 0.0\n",
      "Length of Upper_limit of capital_gain is 2712\n",
      "Length of Lower_limit of capital_gain is 0\n",
      "\n"
     ]
    },
    {
     "data": {
      "image/png": "[encoded data removed]",
      "text/plain": [
       "<Figure size 864x864 with 1 Axes>"
      ]
     },
     "metadata": {
      "needs_background": "light"
     },
     "output_type": "display_data"
    },
    {
     "name": "stdout",
     "output_type": "stream",
     "text": [
      "IQR of capital_loss is 0.0\n",
      "Upper_limit of capital_loss is 0.0\n",
      "Lower_limit of capital_loss is 0.0\n",
      "Length of Upper_limit of capital_loss is 1519\n",
      "Length of Lower_limit of capital_loss is 0\n",
      "\n"
     ]
    },
    {
     "data": {
      "image/png": "[encoded data removed]",
      "text/plain": [
       "<Figure size 864x864 with 1 Axes>"
      ]
     },
     "metadata": {
      "needs_background": "light"
     },
     "output_type": "display_data"
    },
    {
     "name": "stdout",
     "output_type": "stream",
     "text": [
      "IQR of hours_per_week is 5.0\n",
      "Upper_limit of hours_per_week is 52.5\n",
      "Lower_limit of hours_per_week is 32.5\n",
      "Length of Upper_limit of hours_per_week is 3491\n",
      "Length of Lower_limit of hours_per_week is 5511\n",
      "\n"
     ]
    }
   ],
   "source": [
    "for col in data_num:\n",
    "    sns.boxplot(data[col], color = 'r')\n",
    "    plt.xlabel(col)\n",
    "    plt.title('Box plot of {}'.format(col))\n",
    "    plt.show()\n",
    "    IQR = data[col].quantile(0.75)-data[col].quantile(0.25)\n",
    "    print(f'IQR of {col} is {IQR}')\n",
    "    upper_limit= data[col].quantile(0.75)+ (1.5*IQR)\n",
    "    print(f'Upper_limit of {col} is {upper_limit}')\n",
    "    lower_limit= data[col].quantile(0.25)- (1.5*IQR)\n",
    "    print(f'Lower_limit of {col} is {lower_limit}')\n",
    "    length_upper = len(data[col][data[col]>upper_limit])\n",
    "    print(f'Length of Upper_limit of {col} is {length_upper}')\n",
    "    length_lower = len(data[col][data[col]<lower_limit])\n",
    "    print(f'Length of Lower_limit of {col} is {length_lower}')\n",
    "    print('')"
   ]
  },
  {
   "cell_type": "code",
   "execution_count": 22,
   "id": "24b195fd",
   "metadata": {},
   "outputs": [],
   "source": [
    "data['age'] = np.where(data['age']>78.0, 78.0, data['age']) \n",
    "data['fnlwgt'] = np.where(data['fnlwgt']>415742.0, 415742.0, data['fnlwgt']) \n",
    "data['education_num'] = np.where(data['education_num']<5, 5, data['education_num']) \n",
    "data['capital_gain'] = np.where(data['capital_gain']>0.0, 0.0, data['capital_gain']) \n",
    "data['capital_loss'] = np.where(data['capital_loss']>0.0, 0.0, data['capital_loss']) \n",
    "data['hours_per_week'] = np.where(data['hours_per_week']>52.5, 52.5, data['hours_per_week']) \n",
    "data['hours_per_week'] = np.where(data['hours_per_week']<32.5, 32.5, data['hours_per_week']) \n"
   ]
  },
  {
   "cell_type": "code",
   "execution_count": 23,
   "id": "888071ec",
   "metadata": {},
   "outputs": [
    {
     "data": {
      "image/png": "[encoded data removed]",
      "text/plain": [
       "<Figure size 864x864 with 1 Axes>"
      ]
     },
     "metadata": {
      "needs_background": "light"
     },
     "output_type": "display_data"
    },
    {
     "name": "stdout",
     "output_type": "stream",
     "text": [
      "\n"
     ]
    },
    {
     "data": {
      "image/png": "[encoded data removed]",
      "text/plain": [
       "<Figure size 864x864 with 1 Axes>"
      ]
     },
     "metadata": {
      "needs_background": "light"
     },
     "output_type": "display_data"
    },
    {
     "name": "stdout",
     "output_type": "stream",
     "text": [
      "\n"
     ]
    },
    {
     "data": {
      "image/png": "[encoded data removed]",
      "text/plain": [
       "<Figure size 864x864 with 1 Axes>"
      ]
     },
     "metadata": {
      "needs_background": "light"
     },
     "output_type": "display_data"
    },
    {
     "name": "stdout",
     "output_type": "stream",
     "text": [
      "\n"
     ]
    },
    {
     "data": {
      "image/png": "[encoded data removed]",
      "text/plain": [
       "<Figure size 864x864 with 1 Axes>"
      ]
     },
     "metadata": {
      "needs_background": "light"
     },
     "output_type": "display_data"
    },
    {
     "name": "stdout",
     "output_type": "stream",
     "text": [
      "\n"
     ]
    },
    {
     "data": {
      "image/png": "[encoded data removed]",
      "text/plain": [
       "<Figure size 864x864 with 1 Axes>"
      ]
     },
     "metadata": {
      "needs_background": "light"
     },
     "output_type": "display_data"
    },
    {
     "name": "stdout",
     "output_type": "stream",
     "text": [
      "\n"
     ]
    },
    {
     "data": {
      "image/png": "[encoded data removed]",
      "text/plain": [
       "<Figure size 864x864 with 1 Axes>"
      ]
     },
     "metadata": {
      "needs_background": "light"
     },
     "output_type": "display_data"
    },
    {
     "name": "stdout",
     "output_type": "stream",
     "text": [
      "\n"
     ]
    }
   ],
   "source": [
    "for col in data_num:\n",
    "    sns.boxplot(data[col], color = 'g')\n",
    "    plt.xlabel(col)\n",
    "    plt.title('Box plot of {}'.format(col))\n",
    "    plt.show()\n",
    "    print('')"
   ]
  },
  {
   "cell_type": "markdown",
   "id": "748ea31f",
   "metadata": {},
   "source": [
    "**As per value counts capital-gain and capital-loss have only one category**\n",
    "\n",
    "**so, it's NOT A GOOD PREDICTOR**"
   ]
  },
  {
   "cell_type": "code",
   "execution_count": 24,
   "id": "09ce07ea",
   "metadata": {},
   "outputs": [],
   "source": [
    "data_num.drop(['capital_gain', 'capital_loss'], axis = 1, inplace = True)"
   ]
  },
  {
   "cell_type": "markdown",
   "id": "fb3dfdf5",
   "metadata": {},
   "source": [
    "# Statistical test"
   ]
  },
  {
   "cell_type": "code",
   "execution_count": 25,
   "id": "0861516b",
   "metadata": {},
   "outputs": [
    {
     "name": "stdout",
     "output_type": "stream",
     "text": [
      "age\n",
      "Ttest_indResult(statistic=-43.772365172980415, pvalue=0.0)\n",
      "\n",
      "fnlwgt\n",
      "Ttest_indResult(statistic=1.5188180114124985, pvalue=0.12881802774808931)\n",
      "\n",
      "education_num\n",
      "Ttest_indResult(statistic=-66.24295033046211, pvalue=0.0)\n",
      "\n",
      "hours_per_week\n",
      "Ttest_indResult(statistic=-50.793573310410224, pvalue=0.0)\n",
      "\n"
     ]
    }
   ],
   "source": [
    "cat_1 = data[data['salary'] == ' <=50K']\n",
    "cat_2 = data[data['salary'] == ' >50K'] \n",
    "for col in data_num.columns:\n",
    "    print(col)\n",
    "    print(ttest_ind(cat_1[col], cat_2[col]))\n",
    "    print('')"
   ]
  },
  {
   "cell_type": "markdown",
   "id": "16a5465e",
   "metadata": {},
   "source": [
    "**As per statistical test fnlwgt is NOT A GOOD PREDICTOR**"
   ]
  },
  {
   "cell_type": "markdown",
   "id": "706dad1a",
   "metadata": {},
   "source": [
    "# "
   ]
  },
  {
   "cell_type": "markdown",
   "id": "5dd896bf",
   "metadata": {},
   "source": [
    "# "
   ]
  },
  {
   "cell_type": "markdown",
   "id": "9c575cc7",
   "metadata": {},
   "source": [
    "# Train Test Split"
   ]
  },
  {
   "cell_type": "code",
   "execution_count": 26,
   "id": "642b21cd",
   "metadata": {},
   "outputs": [],
   "source": [
    "x = data.drop(['capital_gain', 'capital_loss', 'fnlwgt', 'salary'], axis = 1)\n",
    "y = data['salary']"
   ]
  },
  {
   "cell_type": "code",
   "execution_count": 27,
   "id": "de6ff5fc",
   "metadata": {},
   "outputs": [
    {
     "data": {
      "text/plain": [
       "(32537, 11)"
      ]
     },
     "execution_count": 27,
     "metadata": {},
     "output_type": "execute_result"
    }
   ],
   "source": [
    "x.shape"
   ]
  },
  {
   "cell_type": "code",
   "execution_count": 28,
   "id": "86f61f06",
   "metadata": {},
   "outputs": [
    {
     "data": {
      "text/plain": [
       "(32537,)"
      ]
     },
     "execution_count": 28,
     "metadata": {},
     "output_type": "execute_result"
    }
   ],
   "source": [
    "y.shape"
   ]
  },
  {
   "cell_type": "code",
   "execution_count": 29,
   "id": "ef806495",
   "metadata": {},
   "outputs": [],
   "source": [
    "x_train, x_test, y_train, y_test = train_test_split(x, y, test_size = .2, random_state = 100)"
   ]
  },
  {
   "cell_type": "code",
   "execution_count": 30,
   "id": "d6dec457",
   "metadata": {},
   "outputs": [
    {
     "data": {
      "text/plain": [
       "(26029, 11)"
      ]
     },
     "execution_count": 30,
     "metadata": {},
     "output_type": "execute_result"
    }
   ],
   "source": [
    "x_train.shape"
   ]
  },
  {
   "cell_type": "markdown",
   "id": "2cbee7b1",
   "metadata": {},
   "source": [
    "# "
   ]
  },
  {
   "cell_type": "markdown",
   "id": "d4c4607f",
   "metadata": {},
   "source": [
    "# Join horizontally x_train and y_train"
   ]
  },
  {
   "cell_type": "code",
   "execution_count": 31,
   "id": "2f62c5f5",
   "metadata": {},
   "outputs": [],
   "source": [
    "train = x_train.join(y_train)"
   ]
  },
  {
   "cell_type": "code",
   "execution_count": 32,
   "id": "72606336",
   "metadata": {},
   "outputs": [
    {
     "data": {
      "text/plain": [
       "(26029, 12)"
      ]
     },
     "execution_count": 32,
     "metadata": {},
     "output_type": "execute_result"
    }
   ],
   "source": [
    "train.shape"
   ]
  },
  {
   "cell_type": "markdown",
   "id": "adccf657",
   "metadata": {},
   "source": [
    "# Join horizontally x_test and y_test"
   ]
  },
  {
   "cell_type": "code",
   "execution_count": 33,
   "id": "45c22983",
   "metadata": {},
   "outputs": [],
   "source": [
    "test = x_test.join(y_test)"
   ]
  },
  {
   "cell_type": "code",
   "execution_count": 34,
   "id": "d3c7e269",
   "metadata": {},
   "outputs": [
    {
     "data": {
      "text/plain": [
       "(6508, 12)"
      ]
     },
     "execution_count": 34,
     "metadata": {},
     "output_type": "execute_result"
    }
   ],
   "source": [
    "test.shape"
   ]
  },
  {
   "cell_type": "markdown",
   "id": "7088bdc3",
   "metadata": {},
   "source": [
    "# "
   ]
  },
  {
   "cell_type": "markdown",
   "id": "dd68ea96",
   "metadata": {},
   "source": [
    "# Count the imbalanced categories"
   ]
  },
  {
   "cell_type": "code",
   "execution_count": 35,
   "id": "3156357c",
   "metadata": {},
   "outputs": [
    {
     "data": {
      "text/plain": [
       "19796"
      ]
     },
     "execution_count": 35,
     "metadata": {},
     "output_type": "execute_result"
    }
   ],
   "source": [
    "l_salary = train[train.salary == ' <=50K']\n",
    "len(l_salary)"
   ]
  },
  {
   "cell_type": "code",
   "execution_count": 36,
   "id": "6679a3a3",
   "metadata": {},
   "outputs": [
    {
     "data": {
      "text/plain": [
       "6233"
      ]
     },
     "execution_count": 36,
     "metadata": {},
     "output_type": "execute_result"
    }
   ],
   "source": [
    "salary = train[train.salary == ' >50K']\n",
    "len(salary)"
   ]
  },
  {
   "cell_type": "markdown",
   "id": "f2a60410",
   "metadata": {},
   "source": [
    "# "
   ]
  },
  {
   "cell_type": "markdown",
   "id": "374d92cb",
   "metadata": {},
   "source": [
    "# Make minority class = majority class"
   ]
  },
  {
   "cell_type": "code",
   "execution_count": 37,
   "id": "e7160b0c",
   "metadata": {},
   "outputs": [],
   "source": [
    "salary_os = resample(salary, replace = True, n_samples = len(l_salary), random_state = 27)"
   ]
  },
  {
   "cell_type": "code",
   "execution_count": 38,
   "id": "ed081355",
   "metadata": {},
   "outputs": [],
   "source": [
    "train_os = pd.concat([l_salary, salary_os])"
   ]
  },
  {
   "cell_type": "code",
   "execution_count": 39,
   "id": "dca17268",
   "metadata": {},
   "outputs": [
    {
     "data": {
      "text/plain": [
       " >50K     19796\n",
       " <=50K    19796\n",
       "Name: salary, dtype: int64"
      ]
     },
     "execution_count": 39,
     "metadata": {},
     "output_type": "execute_result"
    }
   ],
   "source": [
    "train_os.salary.value_counts()"
   ]
  },
  {
   "cell_type": "code",
   "execution_count": 40,
   "id": "cf7fe237",
   "metadata": {},
   "outputs": [
    {
     "data": {
      "text/plain": [
       "age               0\n",
       "workclass         0\n",
       "education         0\n",
       "education_num     0\n",
       "marital_status    0\n",
       "occupation        0\n",
       "relationship      0\n",
       "race              0\n",
       "sex               0\n",
       "hours_per_week    0\n",
       "native_country    0\n",
       "salary            0\n",
       "dtype: int64"
      ]
     },
     "execution_count": 40,
     "metadata": {},
     "output_type": "execute_result"
    }
   ],
   "source": [
    "train_os.isnull().sum()"
   ]
  },
  {
   "cell_type": "markdown",
   "id": "91ee4767",
   "metadata": {},
   "source": [
    "# "
   ]
  },
  {
   "cell_type": "markdown",
   "id": "19a95b57",
   "metadata": {},
   "source": [
    "# Now make oversampled x_train(os) & y_train(os)"
   ]
  },
  {
   "cell_type": "code",
   "execution_count": 41,
   "id": "c9d89a5b",
   "metadata": {},
   "outputs": [],
   "source": [
    "x_trainos = train_os.loc[:, train_os.columns != 'salary']\n",
    "y_trainos = train_os.loc[:, train_os.columns == 'salary']"
   ]
  },
  {
   "cell_type": "code",
   "execution_count": 42,
   "id": "357a80e1",
   "metadata": {},
   "outputs": [
    {
     "data": {
      "text/plain": [
       "(39592, 11)"
      ]
     },
     "execution_count": 42,
     "metadata": {},
     "output_type": "execute_result"
    }
   ],
   "source": [
    "x_trainos.shape"
   ]
  },
  {
   "cell_type": "code",
   "execution_count": 43,
   "id": "3cbe30ea",
   "metadata": {},
   "outputs": [
    {
     "data": {
      "text/plain": [
       "(39592, 1)"
      ]
     },
     "execution_count": 43,
     "metadata": {},
     "output_type": "execute_result"
    }
   ],
   "source": [
    "y_trainos.shape"
   ]
  },
  {
   "cell_type": "markdown",
   "id": "f1f6f89c",
   "metadata": {},
   "source": [
    "# "
   ]
  },
  {
   "cell_type": "markdown",
   "id": "2677d790",
   "metadata": {},
   "source": [
    "# Model with Good Predictor"
   ]
  },
  {
   "cell_type": "code",
   "execution_count": 44,
   "id": "c4aca371",
   "metadata": {
    "scrolled": true
   },
   "outputs": [
    {
     "name": "stdout",
     "output_type": "stream",
     "text": [
      "                          Generalized Linear Model Regression Results                          \n",
      "===============================================================================================\n",
      "Dep. Variable:     ['salary[ <=50K]', 'salary[ >50K]']   No. Observations:                39592\n",
      "Model:                                             GLM   Df Residuals:                    39498\n",
      "Model Family:                                 Binomial   Df Model:                           93\n",
      "Link Function:                                   logit   Scale:                          1.0000\n",
      "Method:                                           IRLS   Log-Likelihood:                    nan\n",
      "Date:                                 Sun, 16 Jan 2022   Deviance:                   1.0507e+06\n",
      "Time:                                         22:31:43   Pearson chi2:                 5.14e+19\n",
      "No. Iterations:                                    100                                         \n",
      "Covariance Type:                             nonrobust                                         \n",
      "=================================================================================================================\n",
      "                                                    coef    std err          z      P>|z|      [0.025      0.975]\n",
      "-----------------------------------------------------------------------------------------------------------------\n",
      "Intercept                                      6.425e+15   1.35e+07   4.77e+08      0.000    6.42e+15    6.42e+15\n",
      "workclass[T. Local-gov]                        5.381e+14   2.26e+06   2.38e+08      0.000    5.38e+14    5.38e+14\n",
      "workclass[T. Never-worked]                     3.455e+15   2.55e+07   1.36e+08      0.000    3.45e+15    3.45e+15\n",
      "workclass[T. Private]                           4.46e+14   1.87e+06   2.38e+08      0.000    4.46e+14    4.46e+14\n",
      "workclass[T. Self-emp-inc]                     3.064e+14   2.39e+06   1.28e+08      0.000    3.06e+14    3.06e+14\n",
      "workclass[T. Self-emp-not-inc]                  7.54e+14   2.21e+06    3.4e+08      0.000    7.54e+14    7.54e+14\n",
      "workclass[T. State-gov]                        6.084e+14   2.46e+06   2.47e+08      0.000    6.08e+14    6.08e+14\n",
      "workclass[T. Without-pay]                      4.178e+15   2.04e+07   2.05e+08      0.000    4.18e+15    4.18e+15\n",
      "education[T. 11th]                            -2.237e+14   2.92e+06  -7.66e+07      0.000   -2.24e+14   -2.24e+14\n",
      "education[T. 12th]                            -4.119e+14   3.84e+06  -1.07e+08      0.000   -4.12e+14   -4.12e+14\n",
      "education[T. 1st-4th]                         -3.858e+14    6.4e+06  -6.02e+07      0.000   -3.86e+14   -3.86e+14\n",
      "education[T. 5th-6th]                          -2.88e+14   4.82e+06  -5.97e+07      0.000   -2.88e+14   -2.88e+14\n",
      "education[T. 7th-8th]                          1.759e+14   3.76e+06   4.67e+07      0.000    1.76e+14    1.76e+14\n",
      "education[T. 9th]                             -1.822e+14   3.97e+06  -4.59e+07      0.000   -1.82e+14   -1.82e+14\n",
      "education[T. Assoc-acdm]                       1.218e+14   2.35e+06   5.19e+07      0.000    1.22e+14    1.22e+14\n",
      "education[T. Assoc-voc]                       -4.818e+14   2.16e+06  -2.23e+08      0.000   -4.82e+14   -4.82e+14\n",
      "education[T. Bachelors]                       -7.777e+14   1.79e+06  -4.35e+08      0.000   -7.78e+14   -7.78e+14\n",
      "education[T. Doctorate]                       -1.062e+15   2.78e+06  -3.81e+08      0.000   -1.06e+15   -1.06e+15\n",
      "education[T. HS-grad]                          -5.73e+14   1.83e+06  -3.13e+08      0.000   -5.73e+14   -5.73e+14\n",
      "education[T. Masters]                         -3.401e+14   2.07e+06  -1.65e+08      0.000    -3.4e+14    -3.4e+14\n",
      "education[T. Preschool]                        2.346e+15   1.09e+07   2.16e+08      0.000    2.35e+15    2.35e+15\n",
      "education[T. Prof-school]                     -1.153e+15   2.56e+06  -4.51e+08      0.000   -1.15e+15   -1.15e+15\n",
      "education[T. Some-college]                    -8.585e+14   1.78e+06  -4.82e+08      0.000   -8.58e+14   -8.58e+14\n",
      "marital_status[T. Married-AF-spouse]          -1.155e+15   1.11e+07  -1.04e+08      0.000   -1.16e+15   -1.16e+15\n",
      "marital_status[T. Married-civ-spouse]         -1.173e+15   4.54e+06  -2.58e+08      0.000   -1.17e+15   -1.17e+15\n",
      "marital_status[T. Married-spouse-absent]       1.063e+14   3.58e+06   2.97e+07      0.000    1.06e+14    1.06e+14\n",
      "marital_status[T. Never-married]               2.308e+14    1.4e+06   1.65e+08      0.000    2.31e+14    2.31e+14\n",
      "marital_status[T. Separated]                   8.668e+13   2.44e+06   3.56e+07      0.000    8.67e+13    8.67e+13\n",
      "marital_status[T. Widowed]                     1.312e+13   2.47e+06    5.3e+06      0.000    1.31e+13    1.31e+13\n",
      "occupation[T. Armed-Forces]                   -1.328e+14   2.38e+07  -5.57e+06      0.000   -1.33e+14   -1.33e+14\n",
      "occupation[T. Craft-repair]                   -1.092e+14   1.57e+06  -6.97e+07      0.000   -1.09e+14   -1.09e+14\n",
      "occupation[T. Exec-managerial]                -4.971e+14   1.47e+06  -3.39e+08      0.000   -4.97e+14   -4.97e+14\n",
      "occupation[T. Farming-fishing]                 1.182e+15   2.54e+06   4.65e+08      0.000    1.18e+15    1.18e+15\n",
      "occupation[T. Handlers-cleaners]               8.398e+14   2.25e+06   3.73e+08      0.000     8.4e+14     8.4e+14\n",
      "occupation[T. Machine-op-inspct]               4.438e+14   1.92e+06   2.32e+08      0.000    4.44e+14    4.44e+14\n",
      "occupation[T. Other-service]                    7.97e+14    1.7e+06   4.68e+08      0.000    7.97e+14    7.97e+14\n",
      "occupation[T. Priv-house-serv]                 4.575e+14   6.23e+06   7.35e+07      0.000    4.58e+14    4.58e+14\n",
      "occupation[T. Prof-specialty]                 -2.978e+14   1.43e+06  -2.08e+08      0.000   -2.98e+14   -2.98e+14\n",
      "occupation[T. Protective-serv]                -6.902e+14   2.61e+06  -2.65e+08      0.000    -6.9e+14    -6.9e+14\n",
      "occupation[T. Sales]                          -3.756e+14   1.55e+06  -2.43e+08      0.000   -3.76e+14   -3.76e+14\n",
      "occupation[T. Tech-support]                   -5.604e+14   2.25e+06  -2.49e+08      0.000    -5.6e+14    -5.6e+14\n",
      "occupation[T. Transport-moving]                4.224e+13   2.01e+06   2.11e+07      0.000    4.22e+13    4.22e+13\n",
      "relationship[T. Not-in-family]                 -2.08e+15    4.5e+06  -4.62e+08      0.000   -2.08e+15   -2.08e+15\n",
      "relationship[T. Other-relative]               -1.556e+15   4.48e+06  -3.48e+08      0.000   -1.56e+15   -1.56e+15\n",
      "relationship[T. Own-child]                    -1.365e+15   4.49e+06  -3.04e+08      0.000   -1.36e+15   -1.36e+15\n",
      "relationship[T. Unmarried]                    -1.974e+15   4.69e+06   -4.2e+08      0.000   -1.97e+15   -1.97e+15\n",
      "relationship[T. Wife]                         -1.166e+15   1.82e+06  -6.41e+08      0.000   -1.17e+15   -1.17e+15\n",
      "race[T. Asian-Pac-Islander]                   -7.343e+13   4.76e+06  -1.54e+07      0.000   -7.34e+13   -7.34e+13\n",
      "race[T. Black]                                 1.694e+14   4.05e+06   4.18e+07      0.000    1.69e+14    1.69e+14\n",
      "race[T. Other]                                 6.395e+14   5.82e+06    1.1e+08      0.000    6.39e+14    6.39e+14\n",
      "race[T. White]                                 4.214e+13   3.88e+06   1.09e+07      0.000    4.21e+13    4.21e+13\n",
      "sex[T. Male]                                  -5.597e+14   1.15e+06  -4.88e+08      0.000    -5.6e+14    -5.6e+14\n",
      "native_country[T. Canada]                      7.039e+14    1.3e+07    5.4e+07      0.000    7.04e+14    7.04e+14\n",
      "native_country[T. China]                       1.546e+15   1.36e+07   1.13e+08      0.000    1.55e+15    1.55e+15\n",
      "native_country[T. Columbia]                    2.197e+15    1.5e+07   1.46e+08      0.000     2.2e+15     2.2e+15\n",
      "native_country[T. Cuba]                        8.422e+14   1.36e+07   6.21e+07      0.000    8.42e+14    8.42e+14\n",
      "native_country[T. Dominican-Republic]          1.707e+15   1.49e+07   1.15e+08      0.000    1.71e+15    1.71e+15\n",
      "native_country[T. Ecuador]                      1.35e+15   1.75e+07   7.71e+07      0.000    1.35e+15    1.35e+15\n",
      "native_country[T. El-Salvador]                 1.072e+15   1.36e+07   7.86e+07      0.000    1.07e+15    1.07e+15\n",
      "native_country[T. England]                     3.262e+14   1.35e+07   2.42e+07      0.000    3.26e+14    3.26e+14\n",
      "native_country[T. France]                      6.576e+14   1.54e+07   4.28e+07      0.000    6.58e+14    6.58e+14\n",
      "native_country[T. Germany]                     2.046e+14   1.29e+07   1.59e+07      0.000    2.05e+14    2.05e+14\n",
      "native_country[T. Greece]                      2.016e+15   1.67e+07   1.21e+08      0.000    2.02e+15    2.02e+15\n",
      "native_country[T. Guatemala]                   1.065e+15   1.51e+07   7.04e+07      0.000    1.07e+15    1.07e+15\n",
      "native_country[T. Haiti]                       7.607e+14    1.6e+07   4.75e+07      0.000    7.61e+14    7.61e+14\n",
      "native_country[T. Holand-Netherlands]         -5.202e+14   6.82e+07  -7.62e+06      0.000    -5.2e+14    -5.2e+14\n",
      "native_country[T. Honduras]                    4.697e+15   2.44e+07   1.92e+08      0.000     4.7e+15     4.7e+15\n",
      "native_country[T. Hong]                        1.049e+15   1.73e+07   6.07e+07      0.000    1.05e+15    1.05e+15\n",
      "native_country[T. Hungary]                     9.317e+14   1.99e+07   4.68e+07      0.000    9.32e+14    9.32e+14\n",
      "native_country[T. India]                        1.15e+15    1.3e+07   8.85e+07      0.000    1.15e+15    1.15e+15\n",
      "native_country[T. Iran]                        9.379e+14   1.47e+07   6.38e+07      0.000    9.38e+14    9.38e+14\n",
      "native_country[T. Ireland]                     1.478e+15   1.87e+07   7.91e+07      0.000    1.48e+15    1.48e+15\n",
      "native_country[T. Italy]                       4.079e+14   1.38e+07   2.95e+07      0.000    4.08e+14    4.08e+14\n",
      "native_country[T. Jamaica]                     1.104e+15   1.41e+07   7.82e+07      0.000     1.1e+15     1.1e+15\n",
      "native_country[T. Japan]                       9.328e+14   1.38e+07   6.75e+07      0.000    9.33e+14    9.33e+14\n",
      "native_country[T. Laos]                        1.954e+15   2.01e+07   9.73e+07      0.000    1.95e+15    1.95e+15\n",
      "native_country[T. Mexico]                      1.002e+15   1.24e+07   8.07e+07      0.000       1e+15       1e+15\n",
      "native_country[T. Nicaragua]                   1.146e+15   1.72e+07   6.66e+07      0.000    1.15e+15    1.15e+15\n",
      "native_country[T. Outlying-US(Guam-USVI-etc)]  4.614e+15   2.54e+07   1.81e+08      0.000    4.61e+15    4.61e+15\n",
      "native_country[T. Peru]                        1.498e+15   1.69e+07   8.85e+07      0.000     1.5e+15     1.5e+15\n",
      "native_country[T. Philippines]                 5.754e+14   1.25e+07   4.62e+07      0.000    5.75e+14    5.75e+14\n",
      "native_country[T. Poland]                      1.699e+15   1.44e+07   1.18e+08      0.000     1.7e+15     1.7e+15\n",
      "native_country[T. Portugal]                    9.417e+14   1.58e+07   5.94e+07      0.000    9.42e+14    9.42e+14\n",
      "native_country[T. Puerto-Rico]                 9.782e+14   1.38e+07   7.11e+07      0.000    9.78e+14    9.78e+14\n",
      "native_country[T. Scotland]                    9.259e+14   2.36e+07   3.93e+07      0.000    9.26e+14    9.26e+14\n",
      "native_country[T. South]                       1.682e+15   1.35e+07   1.25e+08      0.000    1.68e+15    1.68e+15\n",
      "native_country[T. Taiwan]                      1.506e+15    1.4e+07   1.08e+08      0.000    1.51e+15    1.51e+15\n",
      "native_country[T. Thailand]                    2.294e+15   1.83e+07   1.25e+08      0.000    2.29e+15    2.29e+15\n",
      "native_country[T. Trinadad&Tobago]             1.224e+15   2.06e+07   5.93e+07      0.000    1.22e+15    1.22e+15\n",
      "native_country[T. United-States]               7.237e+14    1.2e+07   6.01e+07      0.000    7.24e+14    7.24e+14\n",
      "native_country[T. Vietnam]                       1.7e+15   1.44e+07   1.18e+08      0.000     1.7e+15     1.7e+15\n",
      "native_country[T. Yugoslavia]                   4.42e+14    1.9e+07   2.33e+07      0.000    4.42e+14    4.42e+14\n",
      "age                                           -2.518e+13   3.32e+04  -7.59e+08      0.000   -2.52e+13   -2.52e+13\n",
      "education_num                                 -1.584e+14   3.31e+05  -4.78e+08      0.000   -1.58e+14   -1.58e+14\n",
      "hours_per_week                                -5.646e+13   6.06e+04  -9.31e+08      0.000   -5.65e+13   -5.65e+13\n",
      "=================================================================================================================\n"
     ]
    }
   ],
   "source": [
    "\n",
    "model_1 = smf.glm(formula = 'salary ~ age + workclass + education + education_num + marital_status + occupation + relationship + race + sex + hours_per_week + native_country', data = train_os, family = sm.families.Binomial()).fit()\n",
    "print(model_1.summary())"
   ]
  },
  {
   "cell_type": "markdown",
   "id": "0b25861b",
   "metadata": {},
   "source": [
    "# "
   ]
  },
  {
   "cell_type": "markdown",
   "id": "dd6e2891",
   "metadata": {},
   "source": [
    "# "
   ]
  },
  {
   "cell_type": "markdown",
   "id": "16926f4c",
   "metadata": {},
   "source": [
    "# VIF"
   ]
  },
  {
   "cell_type": "code",
   "execution_count": 45,
   "id": "e6de194b",
   "metadata": {},
   "outputs": [],
   "source": [
    "x_trainos1 = x_trainos[['age', 'education_num', 'hours_per_week']]"
   ]
  },
  {
   "cell_type": "code",
   "execution_count": 46,
   "id": "64d5fd65",
   "metadata": {},
   "outputs": [],
   "source": [
    "vif_trn = pd.DataFrame()\n",
    "vif_trn[\"feature\"] = x_trainos1.columns"
   ]
  },
  {
   "cell_type": "code",
   "execution_count": 47,
   "id": "79f393e6",
   "metadata": {},
   "outputs": [
    {
     "name": "stdout",
     "output_type": "stream",
     "text": [
      "          feature        VIF\n",
      "0             age   9.978876\n",
      "1   education_num  17.744226\n",
      "2  hours_per_week  21.713888\n"
     ]
    }
   ],
   "source": [
    "# calculating VIF for each feature\n",
    "\n",
    "from statsmodels.stats.outliers_influence import variance_inflation_factor\n",
    "\n",
    "vif_trn[\"VIF\"] = [variance_inflation_factor(x_trainos1.values, i) for i in range(len(x_trainos1.columns))]\n",
    "  \n",
    "print(vif_trn)"
   ]
  },
  {
   "cell_type": "markdown",
   "id": "c6c48706",
   "metadata": {},
   "source": [
    "# "
   ]
  },
  {
   "cell_type": "markdown",
   "id": "ef1f62a8",
   "metadata": {},
   "source": [
    "# "
   ]
  },
  {
   "cell_type": "markdown",
   "id": "e72c8e5f",
   "metadata": {},
   "source": [
    "# Model With VIF < 10 Columns"
   ]
  },
  {
   "cell_type": "code",
   "execution_count": 48,
   "id": "66d6ccb1",
   "metadata": {
    "scrolled": true
   },
   "outputs": [
    {
     "name": "stdout",
     "output_type": "stream",
     "text": [
      "                          Generalized Linear Model Regression Results                          \n",
      "===============================================================================================\n",
      "Dep. Variable:     ['salary[ <=50K]', 'salary[ >50K]']   No. Observations:                39592\n",
      "Model:                                             GLM   Df Residuals:                    39499\n",
      "Model Family:                                 Binomial   Df Model:                           92\n",
      "Link Function:                                   logit   Scale:                          1.0000\n",
      "Method:                                           IRLS   Log-Likelihood:                    nan\n",
      "Date:                                 Sun, 16 Jan 2022   Deviance:                   1.0873e+06\n",
      "Time:                                         22:32:12   Pearson chi2:                 5.32e+19\n",
      "No. Iterations:                                    100                                         \n",
      "Covariance Type:                             nonrobust                                         \n",
      "=================================================================================================================\n",
      "                                                    coef    std err          z      P>|z|      [0.025      0.975]\n",
      "-----------------------------------------------------------------------------------------------------------------\n",
      "Intercept                                       1.83e+15   1.33e+07   1.37e+08      0.000    1.83e+15    1.83e+15\n",
      "workclass[T. Local-gov]                       -1.523e+13   2.26e+06  -6.75e+06      0.000   -1.52e+13   -1.52e+13\n",
      "workclass[T. Never-worked]                     2.567e+15   2.55e+07   1.01e+08      0.000    2.57e+15    2.57e+15\n",
      "workclass[T. Private]                         -4.105e+13   1.87e+06  -2.19e+07      0.000   -4.11e+13   -4.11e+13\n",
      "workclass[T. Self-emp-inc]                    -3.797e+14   2.39e+06  -1.59e+08      0.000    -3.8e+14    -3.8e+14\n",
      "workclass[T. Self-emp-not-inc]                 3.295e+13   2.21e+06   1.49e+07      0.000    3.29e+13    3.29e+13\n",
      "workclass[T. State-gov]                       -4.208e+13   2.46e+06  -1.71e+07      0.000   -4.21e+13   -4.21e+13\n",
      "workclass[T. Without-pay]                      4.434e+15   2.04e+07   2.18e+08      0.000    4.43e+15    4.43e+15\n",
      "education[T. 11th]                             -3.08e+13   2.92e+06  -1.05e+07      0.000   -3.08e+13   -3.08e+13\n",
      "education[T. 12th]                            -2.271e+14   3.84e+06  -5.92e+07      0.000   -2.27e+14   -2.27e+14\n",
      "education[T. 1st-4th]                         -9.021e+13    6.4e+06  -1.41e+07      0.000   -9.02e+13   -9.02e+13\n",
      "education[T. 5th-6th]                         -8.763e+13   4.82e+06  -1.82e+07      0.000   -8.76e+13   -8.76e+13\n",
      "education[T. 7th-8th]                          -3.38e+13   3.76e+06  -8.98e+06      0.000   -3.38e+13   -3.38e+13\n",
      "education[T. 9th]                             -1.773e+14   3.97e+06  -4.47e+07      0.000   -1.77e+14   -1.77e+14\n",
      "education[T. Assoc-acdm]                       5.576e+14   2.33e+06   2.39e+08      0.000    5.58e+14    5.58e+14\n",
      "education[T. Assoc-voc]                        4.793e+14   2.15e+06   2.23e+08      0.000    4.79e+14    4.79e+14\n",
      "education[T. Bachelors]                       -2.935e+14   1.77e+06  -1.66e+08      0.000   -2.94e+14   -2.94e+14\n",
      "education[T. Doctorate]                       -4.962e+14   2.77e+06  -1.79e+08      0.000   -4.96e+14   -4.96e+14\n",
      "education[T. HS-grad]                         -1.947e+14   1.83e+06  -1.06e+08      0.000   -1.95e+14   -1.95e+14\n",
      "education[T. Masters]                         -1.611e+14   2.05e+06  -7.85e+07      0.000   -1.61e+14   -1.61e+14\n",
      "education[T. Preschool]                        1.835e+15   1.09e+07   1.69e+08      0.000    1.84e+15    1.84e+15\n",
      "education[T. Prof-school]                     -6.548e+14   2.55e+06  -2.57e+08      0.000   -6.55e+14   -6.55e+14\n",
      "education[T. Some-college]                    -3.897e+13   1.78e+06   -2.2e+07      0.000    -3.9e+13    -3.9e+13\n",
      "marital_status[T. Married-AF-spouse]          -1.634e+15   1.11e+07  -1.48e+08      0.000   -1.63e+15   -1.63e+15\n",
      "marital_status[T. Married-civ-spouse]          -8.57e+14   4.54e+06  -1.89e+08      0.000   -8.57e+14   -8.57e+14\n",
      "marital_status[T. Married-spouse-absent]       7.627e+13   3.58e+06   2.13e+07      0.000    7.63e+13    7.63e+13\n",
      "marital_status[T. Never-married]               3.733e+13    1.4e+06   2.67e+07      0.000    3.73e+13    3.73e+13\n",
      "marital_status[T. Separated]                   5.062e+13   2.44e+06   2.08e+07      0.000    5.06e+13    5.06e+13\n",
      "marital_status[T. Widowed]                     9.063e+13   2.47e+06   3.67e+07      0.000    9.06e+13    9.06e+13\n",
      "occupation[T. Armed-Forces]                    2.043e+14   2.38e+07   8.58e+06      0.000    2.04e+14    2.04e+14\n",
      "occupation[T. Craft-repair]                   -1.154e+15   1.57e+06  -7.37e+08      0.000   -1.15e+15   -1.15e+15\n",
      "occupation[T. Exec-managerial]                 1.407e+14   1.46e+06   9.64e+07      0.000    1.41e+14    1.41e+14\n",
      "occupation[T. Farming-fishing]                 -4.56e+14   2.53e+06   -1.8e+08      0.000   -4.56e+14   -4.56e+14\n",
      "occupation[T. Handlers-cleaners]              -4.056e+14   2.25e+06   -1.8e+08      0.000   -4.06e+14   -4.06e+14\n",
      "occupation[T. Machine-op-inspct]              -8.886e+14   1.92e+06  -4.64e+08      0.000   -8.89e+14   -8.89e+14\n",
      "occupation[T. Other-service]                   -1.25e+14    1.7e+06  -7.34e+07      0.000   -1.25e+14   -1.25e+14\n",
      "occupation[T. Priv-house-serv]                -4.006e+13   6.23e+06  -6.43e+06      0.000   -4.01e+13   -4.01e+13\n",
      "occupation[T. Prof-specialty]                  2.395e+14   1.43e+06   1.68e+08      0.000     2.4e+14     2.4e+14\n",
      "occupation[T. Protective-serv]                 1.505e+14   2.61e+06   5.77e+07      0.000     1.5e+14     1.5e+14\n",
      "occupation[T. Sales]                           4.559e+14   1.54e+06   2.95e+08      0.000    4.56e+14    4.56e+14\n",
      "occupation[T. Tech-support]                    2.119e+14   2.25e+06   9.41e+07      0.000    2.12e+14    2.12e+14\n",
      "occupation[T. Transport-moving]               -1.334e+15      2e+06  -6.67e+08      0.000   -1.33e+15   -1.33e+15\n",
      "relationship[T. Not-in-family]                  4.78e+14    4.5e+06   1.06e+08      0.000    4.78e+14    4.78e+14\n",
      "relationship[T. Other-relative]                7.427e+14   4.47e+06   1.66e+08      0.000    7.43e+14    7.43e+14\n",
      "relationship[T. Own-child]                     7.085e+14   4.49e+06   1.58e+08      0.000    7.09e+14    7.09e+14\n",
      "relationship[T. Unmarried]                     3.722e+14   4.69e+06   7.93e+07      0.000    3.72e+14    3.72e+14\n",
      "relationship[T. Wife]                          5.032e+13   1.82e+06   2.77e+07      0.000    5.03e+13    5.03e+13\n",
      "race[T. Asian-Pac-Islander]                   -1.999e+14   4.76e+06   -4.2e+07      0.000      -2e+14      -2e+14\n",
      "race[T. Black]                                 1.703e+13   4.05e+06   4.21e+06      0.000     1.7e+13     1.7e+13\n",
      "race[T. Other]                                 3.762e+14   5.82e+06   6.47e+07      0.000    3.76e+14    3.76e+14\n",
      "race[T. White]                                 3.347e+13   3.88e+06   8.62e+06      0.000    3.35e+13    3.35e+13\n",
      "sex[T. Male]                                   2.429e+14   1.14e+06   2.13e+08      0.000    2.43e+14    2.43e+14\n",
      "native_country[T. Canada]                      1.612e+14    1.3e+07   1.24e+07      0.000    1.61e+14    1.61e+14\n",
      "native_country[T. China]                        1.38e+14   1.36e+07   1.01e+07      0.000    1.38e+14    1.38e+14\n",
      "native_country[T. Columbia]                    1.484e+15    1.5e+07   9.88e+07      0.000    1.48e+15    1.48e+15\n",
      "native_country[T. Cuba]                        3.163e+14   1.36e+07   2.33e+07      0.000    3.16e+14    3.16e+14\n",
      "native_country[T. Dominican-Republic]          1.426e+15   1.49e+07   9.59e+07      0.000    1.43e+15    1.43e+15\n",
      "native_country[T. Ecuador]                     9.832e+14   1.75e+07   5.61e+07      0.000    9.83e+14    9.83e+14\n",
      "native_country[T. El-Salvador]                 7.255e+14   1.36e+07   5.32e+07      0.000    7.25e+14    7.25e+14\n",
      "native_country[T. England]                     4.456e+13   1.35e+07   3.31e+06      0.000    4.46e+13    4.46e+13\n",
      "native_country[T. France]                      2.653e+14   1.54e+07   1.73e+07      0.000    2.65e+14    2.65e+14\n",
      "native_country[T. Germany]                     2.695e+14   1.29e+07    2.1e+07      0.000    2.69e+14    2.69e+14\n",
      "native_country[T. Greece]                      2.857e+14   1.67e+07   1.71e+07      0.000    2.86e+14    2.86e+14\n",
      "native_country[T. Guatemala]                   9.435e+14   1.51e+07   6.24e+07      0.000    9.44e+14    9.44e+14\n",
      "native_country[T. Haiti]                       3.065e+14    1.6e+07   1.91e+07      0.000    3.06e+14    3.06e+14\n",
      "native_country[T. Holand-Netherlands]          4.363e+15   6.82e+07   6.39e+07      0.000    4.36e+15    4.36e+15\n",
      "native_country[T. Honduras]                    3.759e+15   2.44e+07   1.54e+08      0.000    3.76e+15    3.76e+15\n",
      "native_country[T. Hong]                        9.078e+14   1.73e+07   5.25e+07      0.000    9.08e+14    9.08e+14\n",
      "native_country[T. Hungary]                     3.327e+14   1.99e+07   1.67e+07      0.000    3.33e+14    3.33e+14\n",
      "native_country[T. India]                       6.723e+14    1.3e+07   5.17e+07      0.000    6.72e+14    6.72e+14\n",
      "native_country[T. Iran]                        5.835e+14   1.47e+07   3.97e+07      0.000    5.84e+14    5.84e+14\n",
      "native_country[T. Ireland]                      1.16e+15   1.87e+07   6.21e+07      0.000    1.16e+15    1.16e+15\n",
      "native_country[T. Italy]                       1.265e+14   1.38e+07   9.16e+06      0.000    1.27e+14    1.27e+14\n",
      "native_country[T. Jamaica]                     7.305e+14   1.41e+07   5.18e+07      0.000    7.31e+14    7.31e+14\n",
      "native_country[T. Japan]                       2.062e+14   1.38e+07   1.49e+07      0.000    2.06e+14    2.06e+14\n",
      "native_country[T. Laos]                        1.442e+15   2.01e+07   7.18e+07      0.000    1.44e+15    1.44e+15\n",
      "native_country[T. Mexico]                      8.219e+14   1.24e+07   6.62e+07      0.000    8.22e+14    8.22e+14\n",
      "native_country[T. Nicaragua]                   1.023e+15   1.72e+07   5.94e+07      0.000    1.02e+15    1.02e+15\n",
      "native_country[T. Outlying-US(Guam-USVI-etc)]  2.898e+15   2.54e+07   1.14e+08      0.000     2.9e+15     2.9e+15\n",
      "native_country[T. Peru]                        2.269e+14   1.69e+07   1.34e+07      0.000    2.27e+14    2.27e+14\n",
      "native_country[T. Philippines]                 4.392e+14   1.25e+07   3.53e+07      0.000    4.39e+14    4.39e+14\n",
      "native_country[T. Poland]                      5.763e+14   1.44e+07   3.99e+07      0.000    5.76e+14    5.76e+14\n",
      "native_country[T. Portugal]                    9.012e+14   1.58e+07   5.69e+07      0.000    9.01e+14    9.01e+14\n",
      "native_country[T. Puerto-Rico]                 2.578e+14   1.38e+07   1.87e+07      0.000    2.58e+14    2.58e+14\n",
      "native_country[T. Scotland]                        7e+14   2.36e+07   2.97e+07      0.000       7e+14       7e+14\n",
      "native_country[T. South]                       8.767e+14   1.35e+07   6.49e+07      0.000    8.77e+14    8.77e+14\n",
      "native_country[T. Taiwan]                      5.296e+14    1.4e+07   3.78e+07      0.000     5.3e+14     5.3e+14\n",
      "native_country[T. Thailand]                    1.184e+15   1.83e+07   6.48e+07      0.000    1.18e+15    1.18e+15\n",
      "native_country[T. Trinadad&Tobago]             1.083e+15   2.06e+07   5.25e+07      0.000    1.08e+15    1.08e+15\n",
      "native_country[T. United-States]               2.909e+14    1.2e+07   2.41e+07      0.000    2.91e+14    2.91e+14\n",
      "native_country[T. Vietnam]                     1.015e+15   1.44e+07   7.04e+07      0.000    1.02e+15    1.02e+15\n",
      "native_country[T. Yugoslavia]                 -3.497e+13    1.9e+07  -1.84e+06      0.000    -3.5e+13    -3.5e+13\n",
      "age                                           -1.122e+12    3.3e+04   -3.4e+07      0.000   -1.12e+12   -1.12e+12\n",
      "education_num                                 -1.488e+14   3.27e+05  -4.56e+08      0.000   -1.49e+14   -1.49e+14\n",
      "=================================================================================================================\n"
     ]
    }
   ],
   "source": [
    "model_2 = smf.glm(formula = 'salary ~ age + workclass + education + education_num + marital_status + occupation + relationship + race + sex + native_country', data = train_os, family = sm.families.Binomial()).fit()\n",
    "print(model_2.summary())"
   ]
  },
  {
   "cell_type": "code",
   "execution_count": 49,
   "id": "3f62dd0d",
   "metadata": {},
   "outputs": [],
   "source": [
    "x_trainos1 = x_trainos[['age', 'education_num']]"
   ]
  },
  {
   "cell_type": "code",
   "execution_count": 50,
   "id": "c35523a7",
   "metadata": {},
   "outputs": [],
   "source": [
    "vif_trn = pd.DataFrame()\n",
    "vif_trn[\"feature\"] = x_trainos1.columns"
   ]
  },
  {
   "cell_type": "code",
   "execution_count": 51,
   "id": "35a5f349",
   "metadata": {},
   "outputs": [
    {
     "name": "stdout",
     "output_type": "stream",
     "text": [
      "         feature       VIF\n",
      "0            age  7.823335\n",
      "1  education_num  7.823335\n"
     ]
    }
   ],
   "source": [
    "# calculating VIF for each feature\n",
    "\n",
    "from statsmodels.stats.outliers_influence import variance_inflation_factor\n",
    "\n",
    "vif_trn[\"VIF\"] = [variance_inflation_factor(x_trainos1.values, i) for i in range(len(x_trainos1.columns))]\n",
    "  \n",
    "print(vif_trn)"
   ]
  },
  {
   "cell_type": "markdown",
   "id": "6d7de5b8",
   "metadata": {},
   "source": [
    "# "
   ]
  },
  {
   "cell_type": "code",
   "execution_count": 52,
   "id": "3c852d27",
   "metadata": {},
   "outputs": [
    {
     "data": {
      "text/html": [
       "<div>\n",
       "<style scoped>\n",
       "    .dataframe tbody tr th:only-of-type {\n",
       "        vertical-align: middle;\n",
       "    }\n",
       "\n",
       "    .dataframe tbody tr th {\n",
       "        vertical-align: top;\n",
       "    }\n",
       "\n",
       "    .dataframe thead th {\n",
       "        text-align: right;\n",
       "    }\n",
       "</style>\n",
       "<table border=\"1\" class=\"dataframe\">\n",
       "  <thead>\n",
       "    <tr style=\"text-align: right;\">\n",
       "      <th></th>\n",
       "      <th>salary</th>\n",
       "    </tr>\n",
       "  </thead>\n",
       "  <tbody>\n",
       "    <tr>\n",
       "      <th>13799</th>\n",
       "      <td>&lt;=50K</td>\n",
       "    </tr>\n",
       "    <tr>\n",
       "      <th>21389</th>\n",
       "      <td>&lt;=50K</td>\n",
       "    </tr>\n",
       "    <tr>\n",
       "      <th>4980</th>\n",
       "      <td>&lt;=50K</td>\n",
       "    </tr>\n",
       "    <tr>\n",
       "      <th>29865</th>\n",
       "      <td>&gt;50K</td>\n",
       "    </tr>\n",
       "    <tr>\n",
       "      <th>9224</th>\n",
       "      <td>&lt;=50K</td>\n",
       "    </tr>\n",
       "    <tr>\n",
       "      <th>...</th>\n",
       "      <td>...</td>\n",
       "    </tr>\n",
       "    <tr>\n",
       "      <th>7977</th>\n",
       "      <td>&gt;50K</td>\n",
       "    </tr>\n",
       "    <tr>\n",
       "      <th>25081</th>\n",
       "      <td>&lt;=50K</td>\n",
       "    </tr>\n",
       "    <tr>\n",
       "      <th>2019</th>\n",
       "      <td>&lt;=50K</td>\n",
       "    </tr>\n",
       "    <tr>\n",
       "      <th>21268</th>\n",
       "      <td>&lt;=50K</td>\n",
       "    </tr>\n",
       "    <tr>\n",
       "      <th>28787</th>\n",
       "      <td>&lt;=50K</td>\n",
       "    </tr>\n",
       "  </tbody>\n",
       "</table>\n",
       "<p>6508 rows × 1 columns</p>\n",
       "</div>"
      ],
      "text/plain": [
       "       salary\n",
       "13799   <=50K\n",
       "21389   <=50K\n",
       "4980    <=50K\n",
       "29865    >50K\n",
       "9224    <=50K\n",
       "...       ...\n",
       "7977     >50K\n",
       "25081   <=50K\n",
       "2019    <=50K\n",
       "21268   <=50K\n",
       "28787   <=50K\n",
       "\n",
       "[6508 rows x 1 columns]"
      ]
     },
     "execution_count": 52,
     "metadata": {},
     "output_type": "execute_result"
    }
   ],
   "source": [
    "y_test = test.loc[:, test.columns == 'salary']\n",
    "y_test"
   ]
  },
  {
   "cell_type": "code",
   "execution_count": 53,
   "id": "f18a2670",
   "metadata": {},
   "outputs": [
    {
     "data": {
      "text/plain": [
       "[' >50K',\n",
       " ' >50K',\n",
       " ' >50K',\n",
       " ' <=50K',\n",
       " ' <=50K',\n",
       " ' <=50K',\n",
       " ' >50K',\n",
       " ' >50K',\n",
       " ' >50K',\n",
       " ' >50K',\n",
       " ' >50K',\n",
       " ' <=50K',\n",
       " ' >50K',\n",
       " ' >50K',\n",
       " ' <=50K',\n",
       " ' >50K',\n",
       " ' >50K',\n",
       " ' >50K',\n",
       " ' >50K',\n",
       " ' >50K',\n",
       " ' <=50K',\n",
       " ' <=50K',\n",
       " ' >50K',\n",
       " ' >50K',\n",
       " ' <=50K',\n",
       " ' <=50K',\n",
       " ' >50K',\n",
       " ' <=50K',\n",
       " ' >50K',\n",
       " ' >50K',\n",
       " ' <=50K',\n",
       " ' >50K',\n",
       " ' >50K',\n",
       " ' >50K',\n",
       " ' >50K',\n",
       " ' <=50K',\n",
       " ' >50K',\n",
       " ' >50K',\n",
       " ' >50K',\n",
       " ' <=50K',\n",
       " ' <=50K',\n",
       " ' <=50K',\n",
       " ' <=50K',\n",
       " ' <=50K',\n",
       " ' <=50K',\n",
       " ' <=50K',\n",
       " ' >50K',\n",
       " ' >50K',\n",
       " ' <=50K',\n",
       " ' >50K',\n",
       " ' >50K',\n",
       " ' >50K',\n",
       " ' <=50K',\n",
       " ' >50K',\n",
       " ' >50K',\n",
       " ' <=50K',\n",
       " ' >50K',\n",
       " ' <=50K',\n",
       " ' >50K',\n",
       " ' <=50K',\n",
       " ' >50K',\n",
       " ' >50K',\n",
       " ' <=50K',\n",
       " ' >50K',\n",
       " ' <=50K',\n",
       " ' >50K',\n",
       " ' <=50K',\n",
       " ' <=50K',\n",
       " ' >50K',\n",
       " ' >50K',\n",
       " ' >50K',\n",
       " ' <=50K',\n",
       " ' <=50K',\n",
       " ' >50K',\n",
       " ' <=50K',\n",
       " ' >50K',\n",
       " ' <=50K',\n",
       " ' >50K',\n",
       " ' >50K',\n",
       " ' <=50K',\n",
       " ' >50K',\n",
       " ' >50K',\n",
       " ' >50K',\n",
       " ' >50K',\n",
       " ' >50K',\n",
       " ' >50K',\n",
       " ' >50K',\n",
       " ' <=50K',\n",
       " ' <=50K',\n",
       " ' >50K',\n",
       " ' >50K',\n",
       " ' >50K',\n",
       " ' <=50K',\n",
       " ' <=50K',\n",
       " ' <=50K',\n",
       " ' >50K',\n",
       " ' <=50K',\n",
       " ' >50K',\n",
       " ' >50K',\n",
       " ' <=50K',\n",
       " ' >50K',\n",
       " ' <=50K',\n",
       " ' >50K',\n",
       " ' <=50K',\n",
       " ' >50K',\n",
       " ' >50K',\n",
       " ' >50K',\n",
       " ' >50K',\n",
       " ' <=50K',\n",
       " ' >50K',\n",
       " ' <=50K',\n",
       " ' >50K',\n",
       " ' <=50K',\n",
       " ' >50K',\n",
       " ' <=50K',\n",
       " ' >50K',\n",
       " ' <=50K',\n",
       " ' <=50K',\n",
       " ' >50K',\n",
       " ' >50K',\n",
       " ' <=50K',\n",
       " ' <=50K',\n",
       " ' >50K',\n",
       " ' <=50K',\n",
       " ' >50K',\n",
       " ' >50K',\n",
       " ' >50K',\n",
       " ' >50K',\n",
       " ' >50K',\n",
       " ' >50K',\n",
       " ' <=50K',\n",
       " ' >50K',\n",
       " ' <=50K',\n",
       " ' <=50K',\n",
       " ' <=50K',\n",
       " ' <=50K',\n",
       " ' >50K',\n",
       " ' >50K',\n",
       " ' <=50K',\n",
       " ' >50K',\n",
       " ' <=50K',\n",
       " ' <=50K',\n",
       " ' <=50K',\n",
       " ' >50K',\n",
       " ' >50K',\n",
       " ' <=50K',\n",
       " ' <=50K',\n",
       " ' >50K',\n",
       " ' >50K',\n",
       " ' >50K',\n",
       " ' >50K',\n",
       " ' >50K',\n",
       " ' >50K',\n",
       " ' >50K',\n",
       " ' <=50K',\n",
       " ' >50K',\n",
       " ' >50K',\n",
       " ' >50K',\n",
       " ' >50K',\n",
       " ' <=50K',\n",
       " ' >50K',\n",
       " ' <=50K',\n",
       " ' >50K',\n",
       " ' <=50K',\n",
       " ' >50K',\n",
       " ' <=50K',\n",
       " ' <=50K',\n",
       " ' >50K',\n",
       " ' >50K',\n",
       " ' >50K',\n",
       " ' <=50K',\n",
       " ' <=50K',\n",
       " ' <=50K',\n",
       " ' >50K',\n",
       " ' >50K',\n",
       " ' >50K',\n",
       " ' >50K',\n",
       " ' <=50K',\n",
       " ' <=50K',\n",
       " ' <=50K',\n",
       " ' <=50K',\n",
       " ' <=50K',\n",
       " ' >50K',\n",
       " ' >50K',\n",
       " ' >50K',\n",
       " ' >50K',\n",
       " ' >50K',\n",
       " ' >50K',\n",
       " ' >50K',\n",
       " ' <=50K',\n",
       " ' >50K',\n",
       " ' <=50K',\n",
       " ' <=50K',\n",
       " ' >50K',\n",
       " ' >50K',\n",
       " ' >50K',\n",
       " ' >50K',\n",
       " ' >50K',\n",
       " ' >50K',\n",
       " ' >50K',\n",
       " ' <=50K',\n",
       " ' <=50K',\n",
       " ' <=50K',\n",
       " ' >50K',\n",
       " ' <=50K',\n",
       " ' >50K',\n",
       " ' >50K',\n",
       " ' >50K',\n",
       " ' >50K',\n",
       " ' <=50K',\n",
       " ' <=50K',\n",
       " ' >50K',\n",
       " ' >50K',\n",
       " ' >50K',\n",
       " ' >50K',\n",
       " ' <=50K',\n",
       " ' >50K',\n",
       " ' >50K',\n",
       " ' <=50K',\n",
       " ' >50K',\n",
       " ' <=50K',\n",
       " ' <=50K',\n",
       " ' <=50K',\n",
       " ' >50K',\n",
       " ' >50K',\n",
       " ' <=50K',\n",
       " ' >50K',\n",
       " ' <=50K',\n",
       " ' >50K',\n",
       " ' <=50K',\n",
       " ' >50K',\n",
       " ' <=50K',\n",
       " ' <=50K',\n",
       " ' >50K',\n",
       " ' >50K',\n",
       " ' >50K',\n",
       " ' >50K',\n",
       " ' >50K',\n",
       " ' <=50K',\n",
       " ' >50K',\n",
       " ' <=50K',\n",
       " ' <=50K',\n",
       " ' >50K',\n",
       " ' >50K',\n",
       " ' <=50K',\n",
       " ' >50K',\n",
       " ' <=50K',\n",
       " ' <=50K',\n",
       " ' <=50K',\n",
       " ' <=50K',\n",
       " ' >50K',\n",
       " ' >50K',\n",
       " ' >50K',\n",
       " ' <=50K',\n",
       " ' >50K',\n",
       " ' >50K',\n",
       " ' >50K',\n",
       " ' <=50K',\n",
       " ' <=50K',\n",
       " ' >50K',\n",
       " ' >50K',\n",
       " ' >50K',\n",
       " ' <=50K',\n",
       " ' >50K',\n",
       " ' <=50K',\n",
       " ' >50K',\n",
       " ' >50K',\n",
       " ' >50K',\n",
       " ' >50K',\n",
       " ' >50K',\n",
       " ' >50K',\n",
       " ' <=50K',\n",
       " ' <=50K',\n",
       " ' >50K',\n",
       " ' >50K',\n",
       " ' <=50K',\n",
       " ' <=50K',\n",
       " ' >50K',\n",
       " ' <=50K',\n",
       " ' >50K',\n",
       " ' >50K',\n",
       " ' >50K',\n",
       " ' >50K',\n",
       " ' <=50K',\n",
       " ' >50K',\n",
       " ' <=50K',\n",
       " ' >50K',\n",
       " ' <=50K',\n",
       " ' >50K',\n",
       " ' <=50K',\n",
       " ' <=50K',\n",
       " ' <=50K',\n",
       " ' >50K',\n",
       " ' <=50K',\n",
       " ' >50K',\n",
       " ' >50K',\n",
       " ' >50K',\n",
       " ' >50K',\n",
       " ' >50K',\n",
       " ' >50K',\n",
       " ' >50K',\n",
       " ' <=50K',\n",
       " ' >50K',\n",
       " ' >50K',\n",
       " ' >50K',\n",
       " ' <=50K',\n",
       " ' <=50K',\n",
       " ' >50K',\n",
       " ' >50K',\n",
       " ' <=50K',\n",
       " ' <=50K',\n",
       " ' >50K',\n",
       " ' >50K',\n",
       " ' >50K',\n",
       " ' <=50K',\n",
       " ' >50K',\n",
       " ' >50K',\n",
       " ' >50K',\n",
       " ' >50K',\n",
       " ' >50K',\n",
       " ' >50K',\n",
       " ' >50K',\n",
       " ' <=50K',\n",
       " ' <=50K',\n",
       " ' >50K',\n",
       " ' >50K',\n",
       " ' <=50K',\n",
       " ' <=50K',\n",
       " ' <=50K',\n",
       " ' >50K',\n",
       " ' >50K',\n",
       " ' >50K',\n",
       " ' >50K',\n",
       " ' >50K',\n",
       " ' >50K',\n",
       " ' >50K',\n",
       " ' <=50K',\n",
       " ' >50K',\n",
       " ' >50K',\n",
       " ' <=50K',\n",
       " ' <=50K',\n",
       " ' <=50K',\n",
       " ' <=50K',\n",
       " ' >50K',\n",
       " ' >50K',\n",
       " ' >50K',\n",
       " ' <=50K',\n",
       " ' >50K',\n",
       " ' >50K',\n",
       " ' >50K',\n",
       " ' >50K',\n",
       " ' >50K',\n",
       " ' >50K',\n",
       " ' >50K',\n",
       " ' >50K',\n",
       " ' <=50K',\n",
       " ' <=50K',\n",
       " ' >50K',\n",
       " ' <=50K',\n",
       " ' <=50K',\n",
       " ' >50K',\n",
       " ' <=50K',\n",
       " ' <=50K',\n",
       " ' <=50K',\n",
       " ' <=50K',\n",
       " ' >50K',\n",
       " ' >50K',\n",
       " ' >50K',\n",
       " ' >50K',\n",
       " ' >50K',\n",
       " ' >50K',\n",
       " ' >50K',\n",
       " ' >50K',\n",
       " ' <=50K',\n",
       " ' <=50K',\n",
       " ' >50K',\n",
       " ' <=50K',\n",
       " ' <=50K',\n",
       " ' <=50K',\n",
       " ' >50K',\n",
       " ' <=50K',\n",
       " ' <=50K',\n",
       " ' >50K',\n",
       " ' <=50K',\n",
       " ' >50K',\n",
       " ' >50K',\n",
       " ' <=50K',\n",
       " ' >50K',\n",
       " ' >50K',\n",
       " ' >50K',\n",
       " ' >50K',\n",
       " ' >50K',\n",
       " ' <=50K',\n",
       " ' >50K',\n",
       " ' >50K',\n",
       " ' <=50K',\n",
       " ' <=50K',\n",
       " ' <=50K',\n",
       " ' >50K',\n",
       " ' <=50K',\n",
       " ' <=50K',\n",
       " ' >50K',\n",
       " ' >50K',\n",
       " ' <=50K',\n",
       " ' >50K',\n",
       " ' <=50K',\n",
       " ' <=50K',\n",
       " ' >50K',\n",
       " ' >50K',\n",
       " ' >50K',\n",
       " ' <=50K',\n",
       " ' <=50K',\n",
       " ' >50K',\n",
       " ' >50K',\n",
       " ' >50K',\n",
       " ' >50K',\n",
       " ' >50K',\n",
       " ' >50K',\n",
       " ' <=50K',\n",
       " ' >50K',\n",
       " ' >50K',\n",
       " ' <=50K',\n",
       " ' <=50K',\n",
       " ' >50K',\n",
       " ' >50K',\n",
       " ' >50K',\n",
       " ' >50K',\n",
       " ' >50K',\n",
       " ' <=50K',\n",
       " ' >50K',\n",
       " ' <=50K',\n",
       " ' <=50K',\n",
       " ' >50K',\n",
       " ' >50K',\n",
       " ' <=50K',\n",
       " ' >50K',\n",
       " ' <=50K',\n",
       " ' <=50K',\n",
       " ' >50K',\n",
       " ' >50K',\n",
       " ' >50K',\n",
       " ' <=50K',\n",
       " ' >50K',\n",
       " ' >50K',\n",
       " ' <=50K',\n",
       " ' >50K',\n",
       " ' >50K',\n",
       " ' >50K',\n",
       " ' <=50K',\n",
       " ' >50K',\n",
       " ' >50K',\n",
       " ' >50K',\n",
       " ' >50K',\n",
       " ' <=50K',\n",
       " ' <=50K',\n",
       " ' >50K',\n",
       " ' >50K',\n",
       " ' >50K',\n",
       " ' >50K',\n",
       " ' >50K',\n",
       " ' >50K',\n",
       " ' <=50K',\n",
       " ' <=50K',\n",
       " ' >50K',\n",
       " ' <=50K',\n",
       " ' >50K',\n",
       " ' >50K',\n",
       " ' <=50K',\n",
       " ' >50K',\n",
       " ' >50K',\n",
       " ' >50K',\n",
       " ' >50K',\n",
       " ' >50K',\n",
       " ' <=50K',\n",
       " ' >50K',\n",
       " ' >50K',\n",
       " ' <=50K',\n",
       " ' <=50K',\n",
       " ' <=50K',\n",
       " ' >50K',\n",
       " ' >50K',\n",
       " ' >50K',\n",
       " ' >50K',\n",
       " ' >50K',\n",
       " ' >50K',\n",
       " ' >50K',\n",
       " ' >50K',\n",
       " ' >50K',\n",
       " ' <=50K',\n",
       " ' >50K',\n",
       " ' >50K',\n",
       " ' >50K',\n",
       " ' >50K',\n",
       " ' <=50K',\n",
       " ' >50K',\n",
       " ' <=50K',\n",
       " ' >50K',\n",
       " ' >50K',\n",
       " ' <=50K',\n",
       " ' <=50K',\n",
       " ' >50K',\n",
       " ' <=50K',\n",
       " ' <=50K',\n",
       " ' <=50K',\n",
       " ' >50K',\n",
       " ' >50K',\n",
       " ' >50K',\n",
       " ' <=50K',\n",
       " ' >50K',\n",
       " ' >50K',\n",
       " ' >50K',\n",
       " ' <=50K',\n",
       " ' >50K',\n",
       " ' >50K',\n",
       " ' <=50K',\n",
       " ' <=50K',\n",
       " ' >50K',\n",
       " ' >50K',\n",
       " ' >50K',\n",
       " ' <=50K',\n",
       " ' <=50K',\n",
       " ' >50K',\n",
       " ' >50K',\n",
       " ' <=50K',\n",
       " ' >50K',\n",
       " ' >50K',\n",
       " ' >50K',\n",
       " ' >50K',\n",
       " ' >50K',\n",
       " ' >50K',\n",
       " ' <=50K',\n",
       " ' <=50K',\n",
       " ' <=50K',\n",
       " ' >50K',\n",
       " ' >50K',\n",
       " ' >50K',\n",
       " ' >50K',\n",
       " ' <=50K',\n",
       " ' <=50K',\n",
       " ' >50K',\n",
       " ' >50K',\n",
       " ' >50K',\n",
       " ' >50K',\n",
       " ' >50K',\n",
       " ' >50K',\n",
       " ' <=50K',\n",
       " ' >50K',\n",
       " ' >50K',\n",
       " ' >50K',\n",
       " ' <=50K',\n",
       " ' >50K',\n",
       " ' >50K',\n",
       " ' >50K',\n",
       " ' >50K',\n",
       " ' >50K',\n",
       " ' >50K',\n",
       " ' >50K',\n",
       " ' <=50K',\n",
       " ' >50K',\n",
       " ' >50K',\n",
       " ' <=50K',\n",
       " ' >50K',\n",
       " ' <=50K',\n",
       " ' >50K',\n",
       " ' <=50K',\n",
       " ' >50K',\n",
       " ' <=50K',\n",
       " ' >50K',\n",
       " ' >50K',\n",
       " ' >50K',\n",
       " ' >50K',\n",
       " ' >50K',\n",
       " ' <=50K',\n",
       " ' >50K',\n",
       " ' <=50K',\n",
       " ' >50K',\n",
       " ' <=50K',\n",
       " ' <=50K',\n",
       " ' >50K',\n",
       " ' >50K',\n",
       " ' <=50K',\n",
       " ' <=50K',\n",
       " ' >50K',\n",
       " ' <=50K',\n",
       " ' <=50K',\n",
       " ' >50K',\n",
       " ' >50K',\n",
       " ' >50K',\n",
       " ' >50K',\n",
       " ' >50K',\n",
       " ' <=50K',\n",
       " ' <=50K',\n",
       " ' <=50K',\n",
       " ' <=50K',\n",
       " ' >50K',\n",
       " ' <=50K',\n",
       " ' <=50K',\n",
       " ' >50K',\n",
       " ' >50K',\n",
       " ' >50K',\n",
       " ' >50K',\n",
       " ' >50K',\n",
       " ' <=50K',\n",
       " ' >50K',\n",
       " ' >50K',\n",
       " ' >50K',\n",
       " ' <=50K',\n",
       " ' >50K',\n",
       " ' <=50K',\n",
       " ' >50K',\n",
       " ' <=50K',\n",
       " ' <=50K',\n",
       " ' <=50K',\n",
       " ' <=50K',\n",
       " ' >50K',\n",
       " ' <=50K',\n",
       " ' >50K',\n",
       " ' >50K',\n",
       " ' >50K',\n",
       " ' >50K',\n",
       " ' >50K',\n",
       " ' <=50K',\n",
       " ' >50K',\n",
       " ' <=50K',\n",
       " ' >50K',\n",
       " ' <=50K',\n",
       " ' >50K',\n",
       " ' >50K',\n",
       " ' >50K',\n",
       " ' >50K',\n",
       " ' >50K',\n",
       " ' >50K',\n",
       " ' >50K',\n",
       " ' >50K',\n",
       " ' <=50K',\n",
       " ' >50K',\n",
       " ' >50K',\n",
       " ' <=50K',\n",
       " ' >50K',\n",
       " ' >50K',\n",
       " ' <=50K',\n",
       " ' <=50K',\n",
       " ' >50K',\n",
       " ' >50K',\n",
       " ' <=50K',\n",
       " ' >50K',\n",
       " ' >50K',\n",
       " ' >50K',\n",
       " ' >50K',\n",
       " ' >50K',\n",
       " ' <=50K',\n",
       " ' >50K',\n",
       " ' >50K',\n",
       " ' >50K',\n",
       " ' <=50K',\n",
       " ' <=50K',\n",
       " ' >50K',\n",
       " ' >50K',\n",
       " ' <=50K',\n",
       " ' >50K',\n",
       " ' >50K',\n",
       " ' >50K',\n",
       " ' >50K',\n",
       " ' >50K',\n",
       " ' <=50K',\n",
       " ' <=50K',\n",
       " ' >50K',\n",
       " ' >50K',\n",
       " ' >50K',\n",
       " ' >50K',\n",
       " ' <=50K',\n",
       " ' >50K',\n",
       " ' >50K',\n",
       " ' <=50K',\n",
       " ' >50K',\n",
       " ' >50K',\n",
       " ' <=50K',\n",
       " ' >50K',\n",
       " ' >50K',\n",
       " ' >50K',\n",
       " ' >50K',\n",
       " ' >50K',\n",
       " ' <=50K',\n",
       " ' >50K',\n",
       " ' <=50K',\n",
       " ' >50K',\n",
       " ' <=50K',\n",
       " ' <=50K',\n",
       " ' >50K',\n",
       " ' >50K',\n",
       " ' <=50K',\n",
       " ' >50K',\n",
       " ' <=50K',\n",
       " ' >50K',\n",
       " ' >50K',\n",
       " ' >50K',\n",
       " ' >50K',\n",
       " ' >50K',\n",
       " ' <=50K',\n",
       " ' >50K',\n",
       " ' >50K',\n",
       " ' >50K',\n",
       " ' >50K',\n",
       " ' <=50K',\n",
       " ' <=50K',\n",
       " ' <=50K',\n",
       " ' <=50K',\n",
       " ' >50K',\n",
       " ' >50K',\n",
       " ' <=50K',\n",
       " ' >50K',\n",
       " ' >50K',\n",
       " ' >50K',\n",
       " ' >50K',\n",
       " ' >50K',\n",
       " ' >50K',\n",
       " ' >50K',\n",
       " ' <=50K',\n",
       " ' <=50K',\n",
       " ' >50K',\n",
       " ' >50K',\n",
       " ' >50K',\n",
       " ' >50K',\n",
       " ' >50K',\n",
       " ' >50K',\n",
       " ' <=50K',\n",
       " ' >50K',\n",
       " ' >50K',\n",
       " ' >50K',\n",
       " ' <=50K',\n",
       " ' <=50K',\n",
       " ' <=50K',\n",
       " ' >50K',\n",
       " ' >50K',\n",
       " ' <=50K',\n",
       " ' >50K',\n",
       " ' >50K',\n",
       " ' >50K',\n",
       " ' >50K',\n",
       " ' >50K',\n",
       " ' >50K',\n",
       " ' >50K',\n",
       " ' >50K',\n",
       " ' >50K',\n",
       " ' >50K',\n",
       " ' <=50K',\n",
       " ' >50K',\n",
       " ' >50K',\n",
       " ' >50K',\n",
       " ' <=50K',\n",
       " ' >50K',\n",
       " ' >50K',\n",
       " ' >50K',\n",
       " ' >50K',\n",
       " ' >50K',\n",
       " ' <=50K',\n",
       " ' <=50K',\n",
       " ' >50K',\n",
       " ' <=50K',\n",
       " ' >50K',\n",
       " ' <=50K',\n",
       " ' >50K',\n",
       " ' <=50K',\n",
       " ' >50K',\n",
       " ' >50K',\n",
       " ' <=50K',\n",
       " ' >50K',\n",
       " ' >50K',\n",
       " ' <=50K',\n",
       " ' <=50K',\n",
       " ' >50K',\n",
       " ' >50K',\n",
       " ' >50K',\n",
       " ' >50K',\n",
       " ' >50K',\n",
       " ' >50K',\n",
       " ' >50K',\n",
       " ' >50K',\n",
       " ' >50K',\n",
       " ' <=50K',\n",
       " ' >50K',\n",
       " ' >50K',\n",
       " ' >50K',\n",
       " ' >50K',\n",
       " ' >50K',\n",
       " ' >50K',\n",
       " ' <=50K',\n",
       " ' >50K',\n",
       " ' <=50K',\n",
       " ' >50K',\n",
       " ' >50K',\n",
       " ' >50K',\n",
       " ' >50K',\n",
       " ' >50K',\n",
       " ' >50K',\n",
       " ' <=50K',\n",
       " ' >50K',\n",
       " ' >50K',\n",
       " ' >50K',\n",
       " ' <=50K',\n",
       " ' <=50K',\n",
       " ' <=50K',\n",
       " ' <=50K',\n",
       " ' <=50K',\n",
       " ' <=50K',\n",
       " ' >50K',\n",
       " ' <=50K',\n",
       " ' >50K',\n",
       " ' >50K',\n",
       " ' >50K',\n",
       " ' >50K',\n",
       " ' <=50K',\n",
       " ' >50K',\n",
       " ' >50K',\n",
       " ' <=50K',\n",
       " ' >50K',\n",
       " ' >50K',\n",
       " ' >50K',\n",
       " ' >50K',\n",
       " ' <=50K',\n",
       " ' <=50K',\n",
       " ' >50K',\n",
       " ' <=50K',\n",
       " ' >50K',\n",
       " ' <=50K',\n",
       " ' >50K',\n",
       " ' <=50K',\n",
       " ' <=50K',\n",
       " ' >50K',\n",
       " ' <=50K',\n",
       " ' >50K',\n",
       " ' <=50K',\n",
       " ' >50K',\n",
       " ' >50K',\n",
       " ' >50K',\n",
       " ' >50K',\n",
       " ' >50K',\n",
       " ' >50K',\n",
       " ' <=50K',\n",
       " ' >50K',\n",
       " ' <=50K',\n",
       " ' >50K',\n",
       " ' <=50K',\n",
       " ' <=50K',\n",
       " ' <=50K',\n",
       " ' >50K',\n",
       " ' >50K',\n",
       " ' <=50K',\n",
       " ' >50K',\n",
       " ' >50K',\n",
       " ' >50K',\n",
       " ' >50K',\n",
       " ' >50K',\n",
       " ' <=50K',\n",
       " ' >50K',\n",
       " ' >50K',\n",
       " ' >50K',\n",
       " ' <=50K',\n",
       " ' >50K',\n",
       " ' <=50K',\n",
       " ' <=50K',\n",
       " ' <=50K',\n",
       " ' >50K',\n",
       " ' >50K',\n",
       " ' <=50K',\n",
       " ' >50K',\n",
       " ' <=50K',\n",
       " ' >50K',\n",
       " ' >50K',\n",
       " ' >50K',\n",
       " ' >50K',\n",
       " ' >50K',\n",
       " ' <=50K',\n",
       " ' >50K',\n",
       " ' <=50K',\n",
       " ' <=50K',\n",
       " ' >50K',\n",
       " ' <=50K',\n",
       " ' >50K',\n",
       " ' <=50K',\n",
       " ' >50K',\n",
       " ' >50K',\n",
       " ' >50K',\n",
       " ' >50K',\n",
       " ' <=50K',\n",
       " ' >50K',\n",
       " ' >50K',\n",
       " ' <=50K',\n",
       " ' >50K',\n",
       " ' >50K',\n",
       " ' >50K',\n",
       " ' <=50K',\n",
       " ' <=50K',\n",
       " ' >50K',\n",
       " ' >50K',\n",
       " ' >50K',\n",
       " ' >50K',\n",
       " ' >50K',\n",
       " ' <=50K',\n",
       " ' >50K',\n",
       " ' <=50K',\n",
       " ' >50K',\n",
       " ' >50K',\n",
       " ' >50K',\n",
       " ' <=50K',\n",
       " ' >50K',\n",
       " ' <=50K',\n",
       " ' <=50K',\n",
       " ' >50K',\n",
       " ' >50K',\n",
       " ' >50K',\n",
       " ' >50K',\n",
       " ' >50K',\n",
       " ' >50K',\n",
       " ' >50K',\n",
       " ' <=50K',\n",
       " ' <=50K',\n",
       " ' >50K',\n",
       " ' <=50K',\n",
       " ' <=50K',\n",
       " ' <=50K',\n",
       " ' <=50K',\n",
       " ' >50K',\n",
       " ' >50K',\n",
       " ' <=50K',\n",
       " ' >50K',\n",
       " ' <=50K',\n",
       " ' >50K',\n",
       " ' >50K',\n",
       " ' >50K',\n",
       " ' >50K',\n",
       " ' <=50K',\n",
       " ' <=50K',\n",
       " ' >50K',\n",
       " ' >50K',\n",
       " ' <=50K',\n",
       " ' >50K',\n",
       " ' <=50K',\n",
       " ' >50K',\n",
       " ' >50K',\n",
       " ' >50K',\n",
       " ' <=50K',\n",
       " ' <=50K',\n",
       " ' <=50K',\n",
       " ' >50K',\n",
       " ' <=50K',\n",
       " ' >50K',\n",
       " ' >50K',\n",
       " ' >50K',\n",
       " ' >50K',\n",
       " ' <=50K',\n",
       " ' >50K',\n",
       " ' >50K',\n",
       " ' >50K',\n",
       " ' <=50K',\n",
       " ' >50K',\n",
       " ' >50K',\n",
       " ' <=50K',\n",
       " ' >50K',\n",
       " ' <=50K',\n",
       " ' >50K',\n",
       " ' >50K',\n",
       " ' <=50K',\n",
       " ' >50K',\n",
       " ' <=50K',\n",
       " ' <=50K',\n",
       " ' >50K',\n",
       " ' >50K',\n",
       " ' <=50K',\n",
       " ' >50K',\n",
       " ' >50K',\n",
       " ' >50K',\n",
       " ' >50K',\n",
       " ' >50K',\n",
       " ' <=50K',\n",
       " ' >50K',\n",
       " ' >50K',\n",
       " ' <=50K',\n",
       " ' <=50K',\n",
       " ' >50K',\n",
       " ' <=50K',\n",
       " ' >50K',\n",
       " ' >50K',\n",
       " ' <=50K',\n",
       " ' >50K',\n",
       " ' >50K',\n",
       " ' <=50K',\n",
       " ' <=50K',\n",
       " ' >50K',\n",
       " ' >50K',\n",
       " ' <=50K',\n",
       " ' <=50K',\n",
       " ' >50K',\n",
       " ' >50K',\n",
       " ' <=50K',\n",
       " ' >50K',\n",
       " ' <=50K',\n",
       " ' <=50K',\n",
       " ' >50K',\n",
       " ' >50K',\n",
       " ...]"
      ]
     },
     "execution_count": 53,
     "metadata": {},
     "output_type": "execute_result"
    }
   ],
   "source": [
    "predictions = model_2.predict(x_test)\n",
    "pred_1 = [' <=50K' if x < 0.5 else ' >50K' for x in predictions]\n",
    "pred_1"
   ]
  },
  {
   "cell_type": "markdown",
   "id": "af141d62",
   "metadata": {},
   "source": [
    "# "
   ]
  },
  {
   "cell_type": "code",
   "execution_count": 54,
   "id": "dd9e285d",
   "metadata": {},
   "outputs": [
    {
     "name": "stdout",
     "output_type": "stream",
     "text": [
      "[[1245 3657]\n",
      " [1091  515]]\n",
      "              precision    recall  f1-score   support\n",
      "\n",
      "       <=50K      0.533     0.254     0.344      4902\n",
      "        >50K      0.123     0.321     0.178      1606\n",
      "\n",
      "    accuracy                          0.270      6508\n",
      "   macro avg      0.328     0.287     0.261      6508\n",
      "weighted avg      0.432     0.270     0.303      6508\n",
      "\n"
     ]
    }
   ],
   "source": [
    "from sklearn.metrics import confusion_matrix, classification_report\n",
    "print(confusion_matrix(test[\"salary\"], pred_1))\n",
    "print(classification_report(test[\"salary\"], pred_1, digits = 3))"
   ]
  },
  {
   "cell_type": "markdown",
   "id": "7bb97923",
   "metadata": {},
   "source": [
    "# "
   ]
  },
  {
   "cell_type": "code",
   "execution_count": 57,
   "id": "ead3c9a3",
   "metadata": {},
   "outputs": [],
   "source": [
    "x_trainos = pd.get_dummies(x_trainos)\n",
    "x_test = pd.get_dummies(x_test)"
   ]
  },
  {
   "cell_type": "code",
   "execution_count": 60,
   "id": "bf1ac164",
   "metadata": {},
   "outputs": [],
   "source": [
    "y_trainos['salary'].replace([' <=50K', ' >50K'], [0, 1], inplace = True)"
   ]
  },
  {
   "cell_type": "code",
   "execution_count": 61,
   "id": "09a0a9ca",
   "metadata": {},
   "outputs": [
    {
     "data": {
      "text/html": [
       "<div>\n",
       "<style scoped>\n",
       "    .dataframe tbody tr th:only-of-type {\n",
       "        vertical-align: middle;\n",
       "    }\n",
       "\n",
       "    .dataframe tbody tr th {\n",
       "        vertical-align: top;\n",
       "    }\n",
       "\n",
       "    .dataframe thead th {\n",
       "        text-align: right;\n",
       "    }\n",
       "</style>\n",
       "<table border=\"1\" class=\"dataframe\">\n",
       "  <thead>\n",
       "    <tr style=\"text-align: right;\">\n",
       "      <th></th>\n",
       "      <th>salary</th>\n",
       "    </tr>\n",
       "  </thead>\n",
       "  <tbody>\n",
       "    <tr>\n",
       "      <th>15859</th>\n",
       "      <td>0</td>\n",
       "    </tr>\n",
       "    <tr>\n",
       "      <th>27261</th>\n",
       "      <td>0</td>\n",
       "    </tr>\n",
       "    <tr>\n",
       "      <th>19418</th>\n",
       "      <td>0</td>\n",
       "    </tr>\n",
       "    <tr>\n",
       "      <th>19181</th>\n",
       "      <td>0</td>\n",
       "    </tr>\n",
       "    <tr>\n",
       "      <th>31223</th>\n",
       "      <td>0</td>\n",
       "    </tr>\n",
       "    <tr>\n",
       "      <th>...</th>\n",
       "      <td>...</td>\n",
       "    </tr>\n",
       "    <tr>\n",
       "      <th>5944</th>\n",
       "      <td>1</td>\n",
       "    </tr>\n",
       "    <tr>\n",
       "      <th>22272</th>\n",
       "      <td>1</td>\n",
       "    </tr>\n",
       "    <tr>\n",
       "      <th>9187</th>\n",
       "      <td>1</td>\n",
       "    </tr>\n",
       "    <tr>\n",
       "      <th>15604</th>\n",
       "      <td>1</td>\n",
       "    </tr>\n",
       "    <tr>\n",
       "      <th>19036</th>\n",
       "      <td>1</td>\n",
       "    </tr>\n",
       "  </tbody>\n",
       "</table>\n",
       "<p>39592 rows × 1 columns</p>\n",
       "</div>"
      ],
      "text/plain": [
       "       salary\n",
       "15859       0\n",
       "27261       0\n",
       "19418       0\n",
       "19181       0\n",
       "31223       0\n",
       "...       ...\n",
       "5944        1\n",
       "22272       1\n",
       "9187        1\n",
       "15604       1\n",
       "19036       1\n",
       "\n",
       "[39592 rows x 1 columns]"
      ]
     },
     "execution_count": 61,
     "metadata": {},
     "output_type": "execute_result"
    }
   ],
   "source": [
    "y_trainos"
   ]
  },
  {
   "cell_type": "markdown",
   "id": "ecce1c57",
   "metadata": {},
   "source": [
    "# "
   ]
  },
  {
   "cell_type": "markdown",
   "id": "f01ab9ba",
   "metadata": {},
   "source": [
    "# "
   ]
  },
  {
   "cell_type": "code",
   "execution_count": 55,
   "id": "cb51c006",
   "metadata": {},
   "outputs": [],
   "source": [
    "from sklearn.linear_model import LogisticRegression\n",
    "from sklearn.metrics import roc_curve, roc_auc_score"
   ]
  },
  {
   "cell_type": "code",
   "execution_count": 62,
   "id": "d6e77fc8",
   "metadata": {},
   "outputs": [
    {
     "name": "stdout",
     "output_type": "stream",
     "text": [
      "roc_auc_score for Logistic Regression:  0.8844161179023002\n"
     ]
    }
   ],
   "source": [
    "clf_reg = LogisticRegression()\n",
    "clf_reg.fit(x_trainos, y_trainos)\n",
    "y_score = clf_reg.predict_proba(x_trainos)[:,1]\n",
    "false_positive_rate, true_positive_rate, threshold = roc_curve(y_trainos, y_score)\n",
    "auc_score = roc_auc_score(y_trainos, y_score)\n",
    "print('roc_auc_score for Logistic Regression: ', auc_score)"
   ]
  },
  {
   "cell_type": "markdown",
   "id": "6759d03e",
   "metadata": {},
   "source": [
    "# "
   ]
  },
  {
   "cell_type": "markdown",
   "id": "86b494bf",
   "metadata": {},
   "source": [
    "# "
   ]
  },
  {
   "cell_type": "markdown",
   "id": "e8a73c03",
   "metadata": {},
   "source": [
    "# Plot"
   ]
  },
  {
   "cell_type": "code",
   "execution_count": 63,
   "id": "6349dd25",
   "metadata": {},
   "outputs": [
    {
     "data": {
      "image/png": "[encoded data removed]",
      "text/plain": [
       "<Figure size 720x720 with 1 Axes>"
      ]
     },
     "metadata": {
      "needs_background": "light"
     },
     "output_type": "display_data"
    }
   ],
   "source": [
    "plt.subplots(1, figsize=(10,10))\n",
    "plt.title('Receiver Operating Characteristic - Logistic regression')\n",
    "plt.plot(false_positive_rate, true_positive_rate, label='ROC curve (area = %0.2f)' % auc_score)\n",
    "plt.plot([0, 1], ls=\"--\")\n",
    "plt.plot([0, 0], [1, 0] , c=\".7\"), plt.plot([1, 1] , c=\".7\")\n",
    "plt.ylabel('True Positive Rate')\n",
    "plt.xlabel('False Positive Rate')\n",
    "plt.legend(loc=\"lower right\")\n",
    "plt.show()"
   ]
  },
  {
   "cell_type": "code",
   "execution_count": null,
   "id": "c0fecec9",
   "metadata": {},
   "outputs": [],
   "source": []
  }
 ],
 "metadata": {
  "kernelspec": {
   "display_name": "Python 3",
   "language": "python",
   "name": "python3"
  },
  "language_info": {
   "codemirror_mode": {
    "name": "ipython",
    "version": 3
   },
   "file_extension": ".py",
   "mimetype": "text/x-python",
   "name": "python",
   "nbconvert_exporter": "python",
   "pygments_lexer": "ipython3",
   "version": "3.8.8"
  }
 },
 "nbformat": 4,
 "nbformat_minor": 5
}
